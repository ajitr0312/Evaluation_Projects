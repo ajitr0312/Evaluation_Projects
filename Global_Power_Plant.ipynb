{
 "cells": [
  {
   "cell_type": "markdown",
   "metadata": {},
   "source": [
    "## Global Power Plant Database\n",
    "\n",
    "### Problem Statement:\n",
    "\n",
    "#### Description:\n",
    "\n",
    "The Global Power Plant Database is a comprehensive, open source database of power plants around the world. It centralizes power plant data to make it easier to navigate, compare and draw insights for one’s own analysis. The database covers approximately 35,000 power plants from 167 countries and includes thermal plants (e.g. coal, gas, oil, nuclear, biomass, waste, geothermal) and renewables (e.g. hydro, wind, solar). Each power plant is geolocated and entries contain information on plant capacity, generation, ownership, and fuel type. It will be continuously updated as data becomes available.\n",
    "\n",
    "#### Key attributes of the database:\n",
    "\n",
    "The database includes the following indicators:\n",
    "\n",
    "- country (text): 3 character country code corresponding to the ISO 3166-1 alpha-3 specification [5]\n",
    "- country_long (text): longer form of the country designation\n",
    "- name (text): name or title of the power plant, generally in Romanized form\n",
    "- gppd_idnr (text): 10 or 12 character identifier for the power plant\n",
    "- capacity_mw (number): electrical generating capacity in megawatts\n",
    "- latitude (number): geolocation in decimal degrees; WGS84 (EPSG:4326)\n",
    "- longitude (number): geolocation in decimal degrees; WGS84 (EPSG:4326)\n",
    "- primary_fuel (text): energy source used in primary electricity generation or export\n",
    "- other_fuel1 (text): energy source used in electricity generation or export\n",
    "- other_fuel2 (text): energy source used in electricity generation or export\n",
    "- other_fuel3 (text): energy source used in electricity generation or export\n",
    "- commissioning_year (number): year of plant operation, weighted by unit-capacity when data is available\n",
    "- owner (text): majority shareholder of the power plant, generally in Romanized form\n",
    "- source (text): entity reporting the data; could be an organization, report, or document, generally in Romanized form\n",
    "- url (text): web document corresponding to the `source` field\n",
    "- geolocation_source (text): attribution for geolocation information\n",
    "- wepp_id (text): a reference to a unique plant identifier in the widely-used PLATTS-WEPP database.\n",
    "- year_of_capacity_data (number): year the capacity information was reported\n",
    "- generation_gwh_2013 (number): electricity generation in gigawatt-hours reported for the year 2013\n",
    "- generation_gwh_2014 (number): electricity generation in gigawatt-hours reported for the year 2014\n",
    "- generation_gwh_2015 (number): electricity generation in gigawatt-hours reported for the year 2015\n",
    "- generation_gwh_2016 (number): electricity generation in gigawatt-hours reported for the year 2016\n",
    "- generation_gwh_2017 (number): electricity generation in gigawatt-hours reported for the year 2017\n",
    "- generation_gwh_2018 (number): electricity generation in gigawatt-hours reported for the year 2018\n",
    "- generation_gwh_2019 (number): electricity generation in gigawatt-hours reported for the year 2019\n",
    "- generation_data_source (text): attribution for the reported generation information\n",
    "- estimated_generation_gwh_2013 (number): estimated electricity generation in gigawatt-hours for the year 2013\n",
    "- estimated_generation_gwh_2014 (number): estimated electricity generation in gigawatt-hours for the year 2014 \n",
    "- estimated_generation_gwh_2015 (number): estimated electricity generation in gigawatt-hours for the year 2015 \n",
    "- estimated_generation_gwh_2016 (number): estimated electricity generation in gigawatt-hours for the year 2016 \n",
    "- estimated_generation_gwh_2017 (number): estimated electricity generation in gigawatt-hours for the year 2017 \n",
    "- estimated_generation_note_2013 (text): label of the model/method used to estimate generation for the year 2013\n",
    "- estimated_generation_note_2014 (text): label of the model/method used to estimate generation for the year 2014 \n",
    "- estimated_generation_note_2015 (text): label of the model/method used to estimate generation for the year 2015\n",
    "- estimated_generation_note_2016 (text): label of the model/method used to estimate generation for the year 2016\n",
    "- estimated_generation_note_2017 (text): label of the model/method used to estimate generation for the year 2017 \n",
    "\n",
    "\n",
    "#### Fuel Type Aggregation:\n",
    "\n",
    "- We define the \"Fuel Type\" attribute of our database based on common fuel categories. \n",
    "\n",
    "### Prediction :   \n",
    "- Make two prediction:\n",
    "    - Fuel Type\n",
    "    - capacity_mw"
   ]
  },
  {
   "cell_type": "markdown",
   "metadata": {},
   "source": [
    "#### Importing required libraries:"
   ]
  },
  {
   "cell_type": "code",
   "execution_count": 94,
   "metadata": {},
   "outputs": [],
   "source": [
    "import numpy as np\n",
    "import pandas as pd\n",
    "import seaborn as sns\n",
    "import matplotlib.pyplot as plt\n",
    "%matplotlib inline\n",
    "\n",
    "from sklearn.preprocessing import LabelEncoder, StandardScaler\n",
    "from sklearn.model_selection import train_test_split\n",
    "from sklearn.linear_model import LogisticRegression, LinearRegression\n",
    "from sklearn.ensemble import RandomForestRegressor, RandomForestClassifier\n",
    "from sklearn.metrics import accuracy_score, classification_report, confusion_matrix\n",
    "\n",
    "import warnings\n",
    "warnings.filterwarnings('ignore')"
   ]
  },
  {
   "cell_type": "markdown",
   "metadata": {},
   "source": [
    "#### Loading the database:"
   ]
  },
  {
   "cell_type": "code",
   "execution_count": 95,
   "metadata": {},
   "outputs": [
    {
     "data": {
      "text/html": [
       "<div>\n",
       "<style scoped>\n",
       "    .dataframe tbody tr th:only-of-type {\n",
       "        vertical-align: middle;\n",
       "    }\n",
       "\n",
       "    .dataframe tbody tr th {\n",
       "        vertical-align: top;\n",
       "    }\n",
       "\n",
       "    .dataframe thead th {\n",
       "        text-align: right;\n",
       "    }\n",
       "</style>\n",
       "<table border=\"1\" class=\"dataframe\">\n",
       "  <thead>\n",
       "    <tr style=\"text-align: right;\">\n",
       "      <th></th>\n",
       "      <th>country</th>\n",
       "      <th>country_long</th>\n",
       "      <th>name</th>\n",
       "      <th>gppd_idnr</th>\n",
       "      <th>capacity_mw</th>\n",
       "      <th>latitude</th>\n",
       "      <th>longitude</th>\n",
       "      <th>primary_fuel</th>\n",
       "      <th>other_fuel1</th>\n",
       "      <th>other_fuel2</th>\n",
       "      <th>...</th>\n",
       "      <th>geolocation_source</th>\n",
       "      <th>wepp_id</th>\n",
       "      <th>year_of_capacity_data</th>\n",
       "      <th>generation_gwh_2013</th>\n",
       "      <th>generation_gwh_2014</th>\n",
       "      <th>generation_gwh_2015</th>\n",
       "      <th>generation_gwh_2016</th>\n",
       "      <th>generation_gwh_2017</th>\n",
       "      <th>generation_data_source</th>\n",
       "      <th>estimated_generation_gwh</th>\n",
       "    </tr>\n",
       "  </thead>\n",
       "  <tbody>\n",
       "    <tr>\n",
       "      <th>0</th>\n",
       "      <td>IND</td>\n",
       "      <td>India</td>\n",
       "      <td>ACME Solar Tower</td>\n",
       "      <td>WRI1020239</td>\n",
       "      <td>2.5</td>\n",
       "      <td>28.1839</td>\n",
       "      <td>73.2407</td>\n",
       "      <td>Solar</td>\n",
       "      <td>NaN</td>\n",
       "      <td>NaN</td>\n",
       "      <td>...</td>\n",
       "      <td>National Renewable Energy Laboratory</td>\n",
       "      <td>NaN</td>\n",
       "      <td>NaN</td>\n",
       "      <td>NaN</td>\n",
       "      <td>NaN</td>\n",
       "      <td>NaN</td>\n",
       "      <td>NaN</td>\n",
       "      <td>NaN</td>\n",
       "      <td>NaN</td>\n",
       "      <td>NaN</td>\n",
       "    </tr>\n",
       "    <tr>\n",
       "      <th>1</th>\n",
       "      <td>IND</td>\n",
       "      <td>India</td>\n",
       "      <td>ADITYA CEMENT WORKS</td>\n",
       "      <td>WRI1019881</td>\n",
       "      <td>98.0</td>\n",
       "      <td>24.7663</td>\n",
       "      <td>74.6090</td>\n",
       "      <td>Coal</td>\n",
       "      <td>NaN</td>\n",
       "      <td>NaN</td>\n",
       "      <td>...</td>\n",
       "      <td>WRI</td>\n",
       "      <td>NaN</td>\n",
       "      <td>NaN</td>\n",
       "      <td>NaN</td>\n",
       "      <td>NaN</td>\n",
       "      <td>NaN</td>\n",
       "      <td>NaN</td>\n",
       "      <td>NaN</td>\n",
       "      <td>NaN</td>\n",
       "      <td>NaN</td>\n",
       "    </tr>\n",
       "    <tr>\n",
       "      <th>2</th>\n",
       "      <td>IND</td>\n",
       "      <td>India</td>\n",
       "      <td>AES Saurashtra Windfarms</td>\n",
       "      <td>WRI1026669</td>\n",
       "      <td>39.2</td>\n",
       "      <td>21.9038</td>\n",
       "      <td>69.3732</td>\n",
       "      <td>Wind</td>\n",
       "      <td>NaN</td>\n",
       "      <td>NaN</td>\n",
       "      <td>...</td>\n",
       "      <td>WRI</td>\n",
       "      <td>NaN</td>\n",
       "      <td>NaN</td>\n",
       "      <td>NaN</td>\n",
       "      <td>NaN</td>\n",
       "      <td>NaN</td>\n",
       "      <td>NaN</td>\n",
       "      <td>NaN</td>\n",
       "      <td>NaN</td>\n",
       "      <td>NaN</td>\n",
       "    </tr>\n",
       "    <tr>\n",
       "      <th>3</th>\n",
       "      <td>IND</td>\n",
       "      <td>India</td>\n",
       "      <td>AGARTALA GT</td>\n",
       "      <td>IND0000001</td>\n",
       "      <td>135.0</td>\n",
       "      <td>23.8712</td>\n",
       "      <td>91.3602</td>\n",
       "      <td>Gas</td>\n",
       "      <td>NaN</td>\n",
       "      <td>NaN</td>\n",
       "      <td>...</td>\n",
       "      <td>WRI</td>\n",
       "      <td>NaN</td>\n",
       "      <td>2018.0</td>\n",
       "      <td>631.777928</td>\n",
       "      <td>617.789264</td>\n",
       "      <td>843.747</td>\n",
       "      <td>886.004428</td>\n",
       "      <td>663.774500</td>\n",
       "      <td>Central Electricity Authority</td>\n",
       "      <td>NaN</td>\n",
       "    </tr>\n",
       "    <tr>\n",
       "      <th>4</th>\n",
       "      <td>IND</td>\n",
       "      <td>India</td>\n",
       "      <td>AKALTARA TPP</td>\n",
       "      <td>IND0000002</td>\n",
       "      <td>1800.0</td>\n",
       "      <td>21.9603</td>\n",
       "      <td>82.4091</td>\n",
       "      <td>Coal</td>\n",
       "      <td>Oil</td>\n",
       "      <td>NaN</td>\n",
       "      <td>...</td>\n",
       "      <td>WRI</td>\n",
       "      <td>NaN</td>\n",
       "      <td>2018.0</td>\n",
       "      <td>1668.290000</td>\n",
       "      <td>3035.550000</td>\n",
       "      <td>5916.370</td>\n",
       "      <td>6243.000000</td>\n",
       "      <td>5385.579736</td>\n",
       "      <td>Central Electricity Authority</td>\n",
       "      <td>NaN</td>\n",
       "    </tr>\n",
       "  </tbody>\n",
       "</table>\n",
       "<p>5 rows × 25 columns</p>\n",
       "</div>"
      ],
      "text/plain": [
       "  country country_long                      name   gppd_idnr  capacity_mw  \\\n",
       "0     IND        India          ACME Solar Tower  WRI1020239          2.5   \n",
       "1     IND        India       ADITYA CEMENT WORKS  WRI1019881         98.0   \n",
       "2     IND        India  AES Saurashtra Windfarms  WRI1026669         39.2   \n",
       "3     IND        India               AGARTALA GT  IND0000001        135.0   \n",
       "4     IND        India              AKALTARA TPP  IND0000002       1800.0   \n",
       "\n",
       "   latitude  longitude primary_fuel other_fuel1 other_fuel2  ...  \\\n",
       "0   28.1839    73.2407        Solar         NaN         NaN  ...   \n",
       "1   24.7663    74.6090         Coal         NaN         NaN  ...   \n",
       "2   21.9038    69.3732         Wind         NaN         NaN  ...   \n",
       "3   23.8712    91.3602          Gas         NaN         NaN  ...   \n",
       "4   21.9603    82.4091         Coal         Oil         NaN  ...   \n",
       "\n",
       "                     geolocation_source  wepp_id year_of_capacity_data  \\\n",
       "0  National Renewable Energy Laboratory      NaN                   NaN   \n",
       "1                                   WRI      NaN                   NaN   \n",
       "2                                   WRI      NaN                   NaN   \n",
       "3                                   WRI      NaN                2018.0   \n",
       "4                                   WRI      NaN                2018.0   \n",
       "\n",
       "  generation_gwh_2013 generation_gwh_2014 generation_gwh_2015  \\\n",
       "0                 NaN                 NaN                 NaN   \n",
       "1                 NaN                 NaN                 NaN   \n",
       "2                 NaN                 NaN                 NaN   \n",
       "3          631.777928          617.789264             843.747   \n",
       "4         1668.290000         3035.550000            5916.370   \n",
       "\n",
       "   generation_gwh_2016  generation_gwh_2017         generation_data_source  \\\n",
       "0                  NaN                  NaN                            NaN   \n",
       "1                  NaN                  NaN                            NaN   \n",
       "2                  NaN                  NaN                            NaN   \n",
       "3           886.004428           663.774500  Central Electricity Authority   \n",
       "4          6243.000000          5385.579736  Central Electricity Authority   \n",
       "\n",
       "   estimated_generation_gwh  \n",
       "0                       NaN  \n",
       "1                       NaN  \n",
       "2                       NaN  \n",
       "3                       NaN  \n",
       "4                       NaN  \n",
       "\n",
       "[5 rows x 25 columns]"
      ]
     },
     "execution_count": 95,
     "metadata": {},
     "output_type": "execute_result"
    }
   ],
   "source": [
    "df = pd.read_csv('database_IND.csv')\n",
    "\n",
    "df.head()"
   ]
  },
  {
   "cell_type": "markdown",
   "metadata": {},
   "source": [
    "#### Exploratory Data Analysis (EDA):"
   ]
  },
  {
   "cell_type": "code",
   "execution_count": 96,
   "metadata": {},
   "outputs": [
    {
     "data": {
      "text/plain": [
       "(908, 25)"
      ]
     },
     "execution_count": 96,
     "metadata": {},
     "output_type": "execute_result"
    }
   ],
   "source": [
    "# Checking for the shape of the dataset:\n",
    "\n",
    "df.shape"
   ]
  },
  {
   "cell_type": "markdown",
   "metadata": {},
   "source": [
    "- The dataset contains 908 rows and 25 columns including the target columns.\n",
    "\n",
    "- We've two target columns\n",
    "    1. capacity_mw\n",
    "    2. primary_fuel"
   ]
  },
  {
   "cell_type": "code",
   "execution_count": 97,
   "metadata": {},
   "outputs": [
    {
     "data": {
      "text/plain": [
       "Index(['country', 'country_long', 'name', 'gppd_idnr', 'capacity_mw',\n",
       "       'latitude', 'longitude', 'primary_fuel', 'other_fuel1', 'other_fuel2',\n",
       "       'other_fuel3', 'commissioning_year', 'owner', 'source', 'url',\n",
       "       'geolocation_source', 'wepp_id', 'year_of_capacity_data',\n",
       "       'generation_gwh_2013', 'generation_gwh_2014', 'generation_gwh_2015',\n",
       "       'generation_gwh_2016', 'generation_gwh_2017', 'generation_data_source',\n",
       "       'estimated_generation_gwh'],\n",
       "      dtype='object')"
      ]
     },
     "execution_count": 97,
     "metadata": {},
     "output_type": "execute_result"
    }
   ],
   "source": [
    "# Checking for the columns of the dataset.\n",
    "\n",
    "df.columns"
   ]
  },
  {
   "cell_type": "code",
   "execution_count": 98,
   "metadata": {},
   "outputs": [
    {
     "data": {
      "text/plain": [
       "country                      object\n",
       "country_long                 object\n",
       "name                         object\n",
       "gppd_idnr                    object\n",
       "capacity_mw                 float64\n",
       "latitude                    float64\n",
       "longitude                   float64\n",
       "primary_fuel                 object\n",
       "other_fuel1                  object\n",
       "other_fuel2                  object\n",
       "other_fuel3                 float64\n",
       "commissioning_year          float64\n",
       "owner                        object\n",
       "source                       object\n",
       "url                          object\n",
       "geolocation_source           object\n",
       "wepp_id                     float64\n",
       "year_of_capacity_data       float64\n",
       "generation_gwh_2013         float64\n",
       "generation_gwh_2014         float64\n",
       "generation_gwh_2015         float64\n",
       "generation_gwh_2016         float64\n",
       "generation_gwh_2017         float64\n",
       "generation_data_source       object\n",
       "estimated_generation_gwh    float64\n",
       "dtype: object"
      ]
     },
     "execution_count": 98,
     "metadata": {},
     "output_type": "execute_result"
    }
   ],
   "source": [
    "# Checking for the datatype of the dataset\n",
    "\n",
    "df.dtypes"
   ]
  },
  {
   "cell_type": "markdown",
   "metadata": {},
   "source": [
    "- The dataset contains two datatypes: 'Object' and 'float'"
   ]
  },
  {
   "cell_type": "code",
   "execution_count": 99,
   "metadata": {},
   "outputs": [
    {
     "data": {
      "text/plain": [
       "country                       0\n",
       "country_long                  0\n",
       "name                          0\n",
       "gppd_idnr                     0\n",
       "capacity_mw                   0\n",
       "latitude                     46\n",
       "longitude                    46\n",
       "primary_fuel                  0\n",
       "other_fuel1                 709\n",
       "other_fuel2                 907\n",
       "other_fuel3                 908\n",
       "commissioning_year          380\n",
       "owner                       566\n",
       "source                        0\n",
       "url                           0\n",
       "geolocation_source           19\n",
       "wepp_id                     908\n",
       "year_of_capacity_data       388\n",
       "generation_gwh_2013         524\n",
       "generation_gwh_2014         507\n",
       "generation_gwh_2015         483\n",
       "generation_gwh_2016         471\n",
       "generation_gwh_2017         465\n",
       "generation_data_source      458\n",
       "estimated_generation_gwh    908\n",
       "dtype: int64"
      ]
     },
     "execution_count": 99,
     "metadata": {},
     "output_type": "execute_result"
    }
   ],
   "source": [
    "# Checking for the missing values in the dataset\n",
    "\n",
    "df.isnull().sum()"
   ]
  },
  {
   "cell_type": "code",
   "execution_count": 100,
   "metadata": {},
   "outputs": [
    {
     "data": {
      "text/html": [
       "<div>\n",
       "<style scoped>\n",
       "    .dataframe tbody tr th:only-of-type {\n",
       "        vertical-align: middle;\n",
       "    }\n",
       "\n",
       "    .dataframe tbody tr th {\n",
       "        vertical-align: top;\n",
       "    }\n",
       "\n",
       "    .dataframe thead th {\n",
       "        text-align: right;\n",
       "    }\n",
       "</style>\n",
       "<table border=\"1\" class=\"dataframe\">\n",
       "  <thead>\n",
       "    <tr style=\"text-align: right;\">\n",
       "      <th></th>\n",
       "      <th>name</th>\n",
       "      <th>gppd_idnr</th>\n",
       "      <th>capacity_mw</th>\n",
       "      <th>latitude</th>\n",
       "      <th>longitude</th>\n",
       "      <th>primary_fuel</th>\n",
       "      <th>other_fuel1</th>\n",
       "      <th>other_fuel2</th>\n",
       "      <th>other_fuel3</th>\n",
       "      <th>commissioning_year</th>\n",
       "      <th>...</th>\n",
       "      <th>geolocation_source</th>\n",
       "      <th>wepp_id</th>\n",
       "      <th>year_of_capacity_data</th>\n",
       "      <th>generation_gwh_2013</th>\n",
       "      <th>generation_gwh_2014</th>\n",
       "      <th>generation_gwh_2015</th>\n",
       "      <th>generation_gwh_2016</th>\n",
       "      <th>generation_gwh_2017</th>\n",
       "      <th>generation_data_source</th>\n",
       "      <th>estimated_generation_gwh</th>\n",
       "    </tr>\n",
       "  </thead>\n",
       "  <tbody>\n",
       "    <tr>\n",
       "      <th>0</th>\n",
       "      <td>ACME Solar Tower</td>\n",
       "      <td>WRI1020239</td>\n",
       "      <td>2.5</td>\n",
       "      <td>28.1839</td>\n",
       "      <td>73.2407</td>\n",
       "      <td>Solar</td>\n",
       "      <td>NaN</td>\n",
       "      <td>NaN</td>\n",
       "      <td>NaN</td>\n",
       "      <td>2011.0</td>\n",
       "      <td>...</td>\n",
       "      <td>National Renewable Energy Laboratory</td>\n",
       "      <td>NaN</td>\n",
       "      <td>NaN</td>\n",
       "      <td>NaN</td>\n",
       "      <td>NaN</td>\n",
       "      <td>NaN</td>\n",
       "      <td>NaN</td>\n",
       "      <td>NaN</td>\n",
       "      <td>NaN</td>\n",
       "      <td>NaN</td>\n",
       "    </tr>\n",
       "    <tr>\n",
       "      <th>1</th>\n",
       "      <td>ADITYA CEMENT WORKS</td>\n",
       "      <td>WRI1019881</td>\n",
       "      <td>98.0</td>\n",
       "      <td>24.7663</td>\n",
       "      <td>74.6090</td>\n",
       "      <td>Coal</td>\n",
       "      <td>NaN</td>\n",
       "      <td>NaN</td>\n",
       "      <td>NaN</td>\n",
       "      <td>NaN</td>\n",
       "      <td>...</td>\n",
       "      <td>WRI</td>\n",
       "      <td>NaN</td>\n",
       "      <td>NaN</td>\n",
       "      <td>NaN</td>\n",
       "      <td>NaN</td>\n",
       "      <td>NaN</td>\n",
       "      <td>NaN</td>\n",
       "      <td>NaN</td>\n",
       "      <td>NaN</td>\n",
       "      <td>NaN</td>\n",
       "    </tr>\n",
       "    <tr>\n",
       "      <th>2</th>\n",
       "      <td>AES Saurashtra Windfarms</td>\n",
       "      <td>WRI1026669</td>\n",
       "      <td>39.2</td>\n",
       "      <td>21.9038</td>\n",
       "      <td>69.3732</td>\n",
       "      <td>Wind</td>\n",
       "      <td>NaN</td>\n",
       "      <td>NaN</td>\n",
       "      <td>NaN</td>\n",
       "      <td>NaN</td>\n",
       "      <td>...</td>\n",
       "      <td>WRI</td>\n",
       "      <td>NaN</td>\n",
       "      <td>NaN</td>\n",
       "      <td>NaN</td>\n",
       "      <td>NaN</td>\n",
       "      <td>NaN</td>\n",
       "      <td>NaN</td>\n",
       "      <td>NaN</td>\n",
       "      <td>NaN</td>\n",
       "      <td>NaN</td>\n",
       "    </tr>\n",
       "    <tr>\n",
       "      <th>3</th>\n",
       "      <td>AGARTALA GT</td>\n",
       "      <td>IND0000001</td>\n",
       "      <td>135.0</td>\n",
       "      <td>23.8712</td>\n",
       "      <td>91.3602</td>\n",
       "      <td>Gas</td>\n",
       "      <td>NaN</td>\n",
       "      <td>NaN</td>\n",
       "      <td>NaN</td>\n",
       "      <td>2004.0</td>\n",
       "      <td>...</td>\n",
       "      <td>WRI</td>\n",
       "      <td>NaN</td>\n",
       "      <td>2018.0</td>\n",
       "      <td>631.777928</td>\n",
       "      <td>617.789264</td>\n",
       "      <td>843.747</td>\n",
       "      <td>886.004428</td>\n",
       "      <td>663.774500</td>\n",
       "      <td>Central Electricity Authority</td>\n",
       "      <td>NaN</td>\n",
       "    </tr>\n",
       "    <tr>\n",
       "      <th>4</th>\n",
       "      <td>AKALTARA TPP</td>\n",
       "      <td>IND0000002</td>\n",
       "      <td>1800.0</td>\n",
       "      <td>21.9603</td>\n",
       "      <td>82.4091</td>\n",
       "      <td>Coal</td>\n",
       "      <td>Oil</td>\n",
       "      <td>NaN</td>\n",
       "      <td>NaN</td>\n",
       "      <td>2015.0</td>\n",
       "      <td>...</td>\n",
       "      <td>WRI</td>\n",
       "      <td>NaN</td>\n",
       "      <td>2018.0</td>\n",
       "      <td>1668.290000</td>\n",
       "      <td>3035.550000</td>\n",
       "      <td>5916.370</td>\n",
       "      <td>6243.000000</td>\n",
       "      <td>5385.579736</td>\n",
       "      <td>Central Electricity Authority</td>\n",
       "      <td>NaN</td>\n",
       "    </tr>\n",
       "  </tbody>\n",
       "</table>\n",
       "<p>5 rows × 23 columns</p>\n",
       "</div>"
      ],
      "text/plain": [
       "                       name   gppd_idnr  capacity_mw  latitude  longitude  \\\n",
       "0          ACME Solar Tower  WRI1020239          2.5   28.1839    73.2407   \n",
       "1       ADITYA CEMENT WORKS  WRI1019881         98.0   24.7663    74.6090   \n",
       "2  AES Saurashtra Windfarms  WRI1026669         39.2   21.9038    69.3732   \n",
       "3               AGARTALA GT  IND0000001        135.0   23.8712    91.3602   \n",
       "4              AKALTARA TPP  IND0000002       1800.0   21.9603    82.4091   \n",
       "\n",
       "  primary_fuel other_fuel1 other_fuel2  other_fuel3  commissioning_year  ...  \\\n",
       "0        Solar         NaN         NaN          NaN              2011.0  ...   \n",
       "1         Coal         NaN         NaN          NaN                 NaN  ...   \n",
       "2         Wind         NaN         NaN          NaN                 NaN  ...   \n",
       "3          Gas         NaN         NaN          NaN              2004.0  ...   \n",
       "4         Coal         Oil         NaN          NaN              2015.0  ...   \n",
       "\n",
       "                     geolocation_source wepp_id year_of_capacity_data  \\\n",
       "0  National Renewable Energy Laboratory     NaN                   NaN   \n",
       "1                                   WRI     NaN                   NaN   \n",
       "2                                   WRI     NaN                   NaN   \n",
       "3                                   WRI     NaN                2018.0   \n",
       "4                                   WRI     NaN                2018.0   \n",
       "\n",
       "  generation_gwh_2013  generation_gwh_2014  generation_gwh_2015  \\\n",
       "0                 NaN                  NaN                  NaN   \n",
       "1                 NaN                  NaN                  NaN   \n",
       "2                 NaN                  NaN                  NaN   \n",
       "3          631.777928           617.789264              843.747   \n",
       "4         1668.290000          3035.550000             5916.370   \n",
       "\n",
       "   generation_gwh_2016  generation_gwh_2017         generation_data_source  \\\n",
       "0                  NaN                  NaN                            NaN   \n",
       "1                  NaN                  NaN                            NaN   \n",
       "2                  NaN                  NaN                            NaN   \n",
       "3           886.004428           663.774500  Central Electricity Authority   \n",
       "4          6243.000000          5385.579736  Central Electricity Authority   \n",
       "\n",
       "   estimated_generation_gwh  \n",
       "0                       NaN  \n",
       "1                       NaN  \n",
       "2                       NaN  \n",
       "3                       NaN  \n",
       "4                       NaN  \n",
       "\n",
       "[5 rows x 23 columns]"
      ]
     },
     "execution_count": 100,
     "metadata": {},
     "output_type": "execute_result"
    }
   ],
   "source": [
    "# Dropping country and country_long columns as it contains only 'India' as value.\n",
    "\n",
    "df = df.drop('country', axis =1)\n",
    "df = df.drop('country_long', axis =1)\n",
    "\n",
    "df.head()"
   ]
  },
  {
   "cell_type": "markdown",
   "metadata": {},
   "source": [
    "- The dataset contains missing values in some columns."
   ]
  },
  {
   "cell_type": "code",
   "execution_count": 101,
   "metadata": {},
   "outputs": [
    {
     "name": "stdout",
     "output_type": "stream",
     "text": [
      "<class 'pandas.core.frame.DataFrame'>\n",
      "RangeIndex: 908 entries, 0 to 907\n",
      "Data columns (total 23 columns):\n",
      " #   Column                    Non-Null Count  Dtype  \n",
      "---  ------                    --------------  -----  \n",
      " 0   name                      908 non-null    object \n",
      " 1   gppd_idnr                 908 non-null    object \n",
      " 2   capacity_mw               908 non-null    float64\n",
      " 3   latitude                  862 non-null    float64\n",
      " 4   longitude                 862 non-null    float64\n",
      " 5   primary_fuel              908 non-null    object \n",
      " 6   other_fuel1               199 non-null    object \n",
      " 7   other_fuel2               1 non-null      object \n",
      " 8   other_fuel3               0 non-null      float64\n",
      " 9   commissioning_year        528 non-null    float64\n",
      " 10  owner                     342 non-null    object \n",
      " 11  source                    908 non-null    object \n",
      " 12  url                       908 non-null    object \n",
      " 13  geolocation_source        889 non-null    object \n",
      " 14  wepp_id                   0 non-null      float64\n",
      " 15  year_of_capacity_data     520 non-null    float64\n",
      " 16  generation_gwh_2013       384 non-null    float64\n",
      " 17  generation_gwh_2014       401 non-null    float64\n",
      " 18  generation_gwh_2015       425 non-null    float64\n",
      " 19  generation_gwh_2016       437 non-null    float64\n",
      " 20  generation_gwh_2017       443 non-null    float64\n",
      " 21  generation_data_source    450 non-null    object \n",
      " 22  estimated_generation_gwh  0 non-null      float64\n",
      "dtypes: float64(13), object(10)\n",
      "memory usage: 163.3+ KB\n"
     ]
    }
   ],
   "source": [
    "# Checking for the information of the dataset\n",
    "\n",
    "df.info()"
   ]
  },
  {
   "cell_type": "markdown",
   "metadata": {},
   "source": [
    "- There are missing values in the dataset as said earlier.\n",
    "- 13 columns contain float datatype and 12 columns contain object datatype.\n",
    "- Following columns contains missing values:\n",
    "    - latitude\n",
    "    - longitude\n",
    "    - other_fuel1\n",
    "    - other_fuel2\n",
    "    - other_fuel3\n",
    "    - commissioning_year\n",
    "    - owner\n",
    "    - geolocation_source\n",
    "    - wepp_id\n",
    "    - year_of_capacity_data\n",
    "    - generation_gwh_2013\n",
    "    - generation_gwh_2014\n",
    "    - generation_gwh_2015\n",
    "    - generation_gwh_2016\n",
    "    - generation_gwh_2017\n",
    "    - generation_data_source\n",
    "    - estimated_generation_gwh\n",
    "    \n",
    "- The column 'other_fuel2' contains only 1 value. So, it is better to drop this column.\n",
    "- The columns 'other_fuel3', 'wepp_id', and 'estimated_generation_gwh' do not contain any values. So, we'll drop these columns."
   ]
  },
  {
   "cell_type": "code",
   "execution_count": 102,
   "metadata": {},
   "outputs": [],
   "source": [
    "# Dropping the 'other_fuel2' column:\n",
    "\n",
    "df = df.drop('other_fuel2', axis = 1)"
   ]
  },
  {
   "cell_type": "code",
   "execution_count": 103,
   "metadata": {},
   "outputs": [],
   "source": [
    "# Dropping the 'other_fuel3' column:\n",
    "\n",
    "df = df.drop('other_fuel3', axis = 1)"
   ]
  },
  {
   "cell_type": "code",
   "execution_count": 104,
   "metadata": {},
   "outputs": [],
   "source": [
    "# Dropping the 'wepp_id' column:\n",
    "\n",
    "df = df.drop('wepp_id', axis =1)"
   ]
  },
  {
   "cell_type": "code",
   "execution_count": 105,
   "metadata": {},
   "outputs": [],
   "source": [
    "# Dropping the 'estimated_generation_gwh' column.\n",
    "\n",
    "df = df.drop('estimated_generation_gwh', axis =1)"
   ]
  },
  {
   "cell_type": "code",
   "execution_count": 106,
   "metadata": {},
   "outputs": [],
   "source": [
    "# Dropping the url column as it is not contributing to the dataset.\n",
    "\n",
    "df = df.drop('url', axis = 1)"
   ]
  },
  {
   "cell_type": "code",
   "execution_count": 107,
   "metadata": {},
   "outputs": [
    {
     "data": {
      "text/html": [
       "<div>\n",
       "<style scoped>\n",
       "    .dataframe tbody tr th:only-of-type {\n",
       "        vertical-align: middle;\n",
       "    }\n",
       "\n",
       "    .dataframe tbody tr th {\n",
       "        vertical-align: top;\n",
       "    }\n",
       "\n",
       "    .dataframe thead th {\n",
       "        text-align: right;\n",
       "    }\n",
       "</style>\n",
       "<table border=\"1\" class=\"dataframe\">\n",
       "  <thead>\n",
       "    <tr style=\"text-align: right;\">\n",
       "      <th></th>\n",
       "      <th>name</th>\n",
       "      <th>gppd_idnr</th>\n",
       "      <th>capacity_mw</th>\n",
       "      <th>latitude</th>\n",
       "      <th>longitude</th>\n",
       "      <th>primary_fuel</th>\n",
       "      <th>other_fuel1</th>\n",
       "      <th>commissioning_year</th>\n",
       "      <th>owner</th>\n",
       "      <th>source</th>\n",
       "      <th>geolocation_source</th>\n",
       "      <th>year_of_capacity_data</th>\n",
       "      <th>generation_gwh_2013</th>\n",
       "      <th>generation_gwh_2014</th>\n",
       "      <th>generation_gwh_2015</th>\n",
       "      <th>generation_gwh_2016</th>\n",
       "      <th>generation_gwh_2017</th>\n",
       "      <th>generation_data_source</th>\n",
       "    </tr>\n",
       "  </thead>\n",
       "  <tbody>\n",
       "    <tr>\n",
       "      <th>0</th>\n",
       "      <td>ACME Solar Tower</td>\n",
       "      <td>WRI1020239</td>\n",
       "      <td>2.5</td>\n",
       "      <td>28.1839</td>\n",
       "      <td>73.2407</td>\n",
       "      <td>Solar</td>\n",
       "      <td>NaN</td>\n",
       "      <td>2011.0</td>\n",
       "      <td>Solar Paces</td>\n",
       "      <td>National Renewable Energy Laboratory</td>\n",
       "      <td>National Renewable Energy Laboratory</td>\n",
       "      <td>NaN</td>\n",
       "      <td>NaN</td>\n",
       "      <td>NaN</td>\n",
       "      <td>NaN</td>\n",
       "      <td>NaN</td>\n",
       "      <td>NaN</td>\n",
       "      <td>NaN</td>\n",
       "    </tr>\n",
       "    <tr>\n",
       "      <th>1</th>\n",
       "      <td>ADITYA CEMENT WORKS</td>\n",
       "      <td>WRI1019881</td>\n",
       "      <td>98.0</td>\n",
       "      <td>24.7663</td>\n",
       "      <td>74.6090</td>\n",
       "      <td>Coal</td>\n",
       "      <td>NaN</td>\n",
       "      <td>NaN</td>\n",
       "      <td>Ultratech Cement ltd</td>\n",
       "      <td>Ultratech Cement ltd</td>\n",
       "      <td>WRI</td>\n",
       "      <td>NaN</td>\n",
       "      <td>NaN</td>\n",
       "      <td>NaN</td>\n",
       "      <td>NaN</td>\n",
       "      <td>NaN</td>\n",
       "      <td>NaN</td>\n",
       "      <td>NaN</td>\n",
       "    </tr>\n",
       "    <tr>\n",
       "      <th>2</th>\n",
       "      <td>AES Saurashtra Windfarms</td>\n",
       "      <td>WRI1026669</td>\n",
       "      <td>39.2</td>\n",
       "      <td>21.9038</td>\n",
       "      <td>69.3732</td>\n",
       "      <td>Wind</td>\n",
       "      <td>NaN</td>\n",
       "      <td>NaN</td>\n",
       "      <td>AES</td>\n",
       "      <td>CDM</td>\n",
       "      <td>WRI</td>\n",
       "      <td>NaN</td>\n",
       "      <td>NaN</td>\n",
       "      <td>NaN</td>\n",
       "      <td>NaN</td>\n",
       "      <td>NaN</td>\n",
       "      <td>NaN</td>\n",
       "      <td>NaN</td>\n",
       "    </tr>\n",
       "    <tr>\n",
       "      <th>3</th>\n",
       "      <td>AGARTALA GT</td>\n",
       "      <td>IND0000001</td>\n",
       "      <td>135.0</td>\n",
       "      <td>23.8712</td>\n",
       "      <td>91.3602</td>\n",
       "      <td>Gas</td>\n",
       "      <td>NaN</td>\n",
       "      <td>2004.0</td>\n",
       "      <td>NaN</td>\n",
       "      <td>Central Electricity Authority</td>\n",
       "      <td>WRI</td>\n",
       "      <td>2018.0</td>\n",
       "      <td>631.777928</td>\n",
       "      <td>617.789264</td>\n",
       "      <td>843.747</td>\n",
       "      <td>886.004428</td>\n",
       "      <td>663.774500</td>\n",
       "      <td>Central Electricity Authority</td>\n",
       "    </tr>\n",
       "    <tr>\n",
       "      <th>4</th>\n",
       "      <td>AKALTARA TPP</td>\n",
       "      <td>IND0000002</td>\n",
       "      <td>1800.0</td>\n",
       "      <td>21.9603</td>\n",
       "      <td>82.4091</td>\n",
       "      <td>Coal</td>\n",
       "      <td>Oil</td>\n",
       "      <td>2015.0</td>\n",
       "      <td>NaN</td>\n",
       "      <td>Central Electricity Authority</td>\n",
       "      <td>WRI</td>\n",
       "      <td>2018.0</td>\n",
       "      <td>1668.290000</td>\n",
       "      <td>3035.550000</td>\n",
       "      <td>5916.370</td>\n",
       "      <td>6243.000000</td>\n",
       "      <td>5385.579736</td>\n",
       "      <td>Central Electricity Authority</td>\n",
       "    </tr>\n",
       "  </tbody>\n",
       "</table>\n",
       "</div>"
      ],
      "text/plain": [
       "                       name   gppd_idnr  capacity_mw  latitude  longitude  \\\n",
       "0          ACME Solar Tower  WRI1020239          2.5   28.1839    73.2407   \n",
       "1       ADITYA CEMENT WORKS  WRI1019881         98.0   24.7663    74.6090   \n",
       "2  AES Saurashtra Windfarms  WRI1026669         39.2   21.9038    69.3732   \n",
       "3               AGARTALA GT  IND0000001        135.0   23.8712    91.3602   \n",
       "4              AKALTARA TPP  IND0000002       1800.0   21.9603    82.4091   \n",
       "\n",
       "  primary_fuel other_fuel1  commissioning_year                 owner  \\\n",
       "0        Solar         NaN              2011.0           Solar Paces   \n",
       "1         Coal         NaN                 NaN  Ultratech Cement ltd   \n",
       "2         Wind         NaN                 NaN                   AES   \n",
       "3          Gas         NaN              2004.0                   NaN   \n",
       "4         Coal         Oil              2015.0                   NaN   \n",
       "\n",
       "                                 source                    geolocation_source  \\\n",
       "0  National Renewable Energy Laboratory  National Renewable Energy Laboratory   \n",
       "1                  Ultratech Cement ltd                                   WRI   \n",
       "2                                   CDM                                   WRI   \n",
       "3         Central Electricity Authority                                   WRI   \n",
       "4         Central Electricity Authority                                   WRI   \n",
       "\n",
       "   year_of_capacity_data  generation_gwh_2013  generation_gwh_2014  \\\n",
       "0                    NaN                  NaN                  NaN   \n",
       "1                    NaN                  NaN                  NaN   \n",
       "2                    NaN                  NaN                  NaN   \n",
       "3                 2018.0           631.777928           617.789264   \n",
       "4                 2018.0          1668.290000          3035.550000   \n",
       "\n",
       "   generation_gwh_2015  generation_gwh_2016  generation_gwh_2017  \\\n",
       "0                  NaN                  NaN                  NaN   \n",
       "1                  NaN                  NaN                  NaN   \n",
       "2                  NaN                  NaN                  NaN   \n",
       "3              843.747           886.004428           663.774500   \n",
       "4             5916.370          6243.000000          5385.579736   \n",
       "\n",
       "          generation_data_source  \n",
       "0                            NaN  \n",
       "1                            NaN  \n",
       "2                            NaN  \n",
       "3  Central Electricity Authority  \n",
       "4  Central Electricity Authority  "
      ]
     },
     "execution_count": 107,
     "metadata": {},
     "output_type": "execute_result"
    }
   ],
   "source": [
    "# Checking the dataset again.\n",
    "\n",
    "df.head()"
   ]
  },
  {
   "cell_type": "markdown",
   "metadata": {},
   "source": [
    "#### Checking for the missing values again:"
   ]
  },
  {
   "cell_type": "code",
   "execution_count": 108,
   "metadata": {},
   "outputs": [
    {
     "data": {
      "text/plain": [
       "name                        0\n",
       "gppd_idnr                   0\n",
       "capacity_mw                 0\n",
       "latitude                   46\n",
       "longitude                  46\n",
       "primary_fuel                0\n",
       "other_fuel1               709\n",
       "commissioning_year        380\n",
       "owner                     566\n",
       "source                      0\n",
       "geolocation_source         19\n",
       "year_of_capacity_data     388\n",
       "generation_gwh_2013       524\n",
       "generation_gwh_2014       507\n",
       "generation_gwh_2015       483\n",
       "generation_gwh_2016       471\n",
       "generation_gwh_2017       465\n",
       "generation_data_source    458\n",
       "dtype: int64"
      ]
     },
     "execution_count": 108,
     "metadata": {},
     "output_type": "execute_result"
    }
   ],
   "source": [
    "df.isnull().sum()"
   ]
  },
  {
   "cell_type": "markdown",
   "metadata": {},
   "source": [
    "#### Handling the missing values:"
   ]
  },
  {
   "cell_type": "markdown",
   "metadata": {},
   "source": [
    "1. generation_gwh_2013\n",
    "\n",
    "We'll replace the missing values with the mean value of the generation_gwh_2013 column."
   ]
  },
  {
   "cell_type": "code",
   "execution_count": 109,
   "metadata": {},
   "outputs": [
    {
     "data": {
      "text/plain": [
       "2304.0592017964586"
      ]
     },
     "execution_count": 109,
     "metadata": {},
     "output_type": "execute_result"
    }
   ],
   "source": [
    "# Checking for the mean\n",
    "\n",
    "df['generation_gwh_2013'].mean()"
   ]
  },
  {
   "cell_type": "code",
   "execution_count": 110,
   "metadata": {},
   "outputs": [],
   "source": [
    "# Replacing the missing values\n",
    "\n",
    "df['generation_gwh_2013'].fillna(df['generation_gwh_2013'].mean(), inplace=True)"
   ]
  },
  {
   "cell_type": "markdown",
   "metadata": {},
   "source": [
    "2. generation_gwh_2014\n",
    "\n",
    "We'll replace the missing values with the mean value of the generation_gwh_2014 column."
   ]
  },
  {
   "cell_type": "code",
   "execution_count": 111,
   "metadata": {},
   "outputs": [
    {
     "data": {
      "text/plain": [
       "2420.3933164542264"
      ]
     },
     "execution_count": 111,
     "metadata": {},
     "output_type": "execute_result"
    }
   ],
   "source": [
    "# Checking for the mean value\n",
    "\n",
    "df['generation_gwh_2014'].mean()"
   ]
  },
  {
   "cell_type": "code",
   "execution_count": 112,
   "metadata": {},
   "outputs": [],
   "source": [
    "# Replacing the missing values with the mean\n",
    "\n",
    "df['generation_gwh_2014'].fillna(df['generation_gwh_2014'].mean(), inplace=True)"
   ]
  },
  {
   "cell_type": "markdown",
   "metadata": {},
   "source": [
    "3. generation_gwh_2015\n",
    "\n",
    "We'll replace the missing values with mean value of the generation_gwh_2015 column."
   ]
  },
  {
   "cell_type": "code",
   "execution_count": 113,
   "metadata": {},
   "outputs": [
    {
     "data": {
      "text/plain": [
       "2414.072373401681"
      ]
     },
     "execution_count": 113,
     "metadata": {},
     "output_type": "execute_result"
    }
   ],
   "source": [
    "# Checking for the mean value.\n",
    "\n",
    "df['generation_gwh_2015'].mean()"
   ]
  },
  {
   "cell_type": "code",
   "execution_count": 114,
   "metadata": {},
   "outputs": [],
   "source": [
    "# Replacing the missing values with the mean\n",
    "\n",
    "df['generation_gwh_2015'].fillna(df['generation_gwh_2015'].mean(), inplace=True)"
   ]
  },
  {
   "cell_type": "markdown",
   "metadata": {},
   "source": [
    "4. generation_gwh_2016\n",
    "\n",
    "We'll replace the missing values with mean value of the generation_gwh_2016 column."
   ]
  },
  {
   "cell_type": "code",
   "execution_count": 115,
   "metadata": {},
   "outputs": [
    {
     "data": {
      "text/plain": [
       "2453.9362918708252"
      ]
     },
     "execution_count": 115,
     "metadata": {},
     "output_type": "execute_result"
    }
   ],
   "source": [
    "# Checking for the mean value.\n",
    "\n",
    "df['generation_gwh_2016'].mean()"
   ]
  },
  {
   "cell_type": "code",
   "execution_count": 116,
   "metadata": {},
   "outputs": [],
   "source": [
    "# Replacing the missing values with the mean\n",
    "\n",
    "df['generation_gwh_2016'].fillna(df['generation_gwh_2016'].mean(), inplace=True)"
   ]
  },
  {
   "cell_type": "markdown",
   "metadata": {},
   "source": [
    "5. generation_gwh_2017\n",
    "\n",
    "We'll replace the missing values with mean value of the generation_gwh_2017 column."
   ]
  },
  {
   "cell_type": "code",
   "execution_count": 117,
   "metadata": {},
   "outputs": [
    {
     "data": {
      "text/plain": [
       "2531.7544577527983"
      ]
     },
     "execution_count": 117,
     "metadata": {},
     "output_type": "execute_result"
    }
   ],
   "source": [
    "# Checking for the mean value.\n",
    "\n",
    "df['generation_gwh_2017'].mean()"
   ]
  },
  {
   "cell_type": "code",
   "execution_count": 118,
   "metadata": {},
   "outputs": [],
   "source": [
    "# Replacing the missing values with the mean\n",
    "\n",
    "df['generation_gwh_2017'].fillna(df['generation_gwh_2017'].mean(), inplace=True)"
   ]
  },
  {
   "cell_type": "markdown",
   "metadata": {},
   "source": [
    "6. other_fuel1 \n",
    "\n",
    "We'll replace the missing values of other_fuel1 column with '0' to denote other fuel option is not avaiable in the respective plant."
   ]
  },
  {
   "cell_type": "code",
   "execution_count": 119,
   "metadata": {},
   "outputs": [
    {
     "data": {
      "text/plain": [
       "Oil             196\n",
       "Gas               2\n",
       "Cogeneration      1\n",
       "Name: other_fuel1, dtype: int64"
      ]
     },
     "execution_count": 119,
     "metadata": {},
     "output_type": "execute_result"
    }
   ],
   "source": [
    "# Checking for the value counts\n",
    "\n",
    "df['other_fuel1'].value_counts()"
   ]
  },
  {
   "cell_type": "code",
   "execution_count": 120,
   "metadata": {},
   "outputs": [],
   "source": [
    "# Replacing the missing values with '0'\n",
    "\n",
    "df['other_fuel1'].fillna('0', inplace=True)"
   ]
  },
  {
   "cell_type": "markdown",
   "metadata": {},
   "source": [
    "7. commissioning_year\n",
    "\n",
    "We'll replace the missing values with the median of the column commissioning_year"
   ]
  },
  {
   "cell_type": "code",
   "execution_count": 121,
   "metadata": {},
   "outputs": [
    {
     "data": {
      "text/plain": [
       "2000.0"
      ]
     },
     "execution_count": 121,
     "metadata": {},
     "output_type": "execute_result"
    }
   ],
   "source": [
    "# Checking the median\n",
    "df['commissioning_year'].median()"
   ]
  },
  {
   "cell_type": "code",
   "execution_count": 122,
   "metadata": {},
   "outputs": [],
   "source": [
    "# Replacing the missing values\n",
    "\n",
    "df['commissioning_year'].fillna('2000', inplace=True)"
   ]
  },
  {
   "cell_type": "markdown",
   "metadata": {},
   "source": [
    "8. latitude\n",
    "\n",
    "We'll replace the missing values with the median of the column latitude"
   ]
  },
  {
   "cell_type": "code",
   "execution_count": 123,
   "metadata": {},
   "outputs": [
    {
     "data": {
      "text/plain": [
       "21.7783"
      ]
     },
     "execution_count": 123,
     "metadata": {},
     "output_type": "execute_result"
    }
   ],
   "source": [
    "# Checking for the median\n",
    "df['latitude'].median()"
   ]
  },
  {
   "cell_type": "code",
   "execution_count": 124,
   "metadata": {},
   "outputs": [],
   "source": [
    "# Replacing the missing values\n",
    "\n",
    "df['latitude'].fillna('21.7783', inplace=True)"
   ]
  },
  {
   "cell_type": "markdown",
   "metadata": {},
   "source": [
    "9. longitude\n",
    "\n",
    "We'll replace the missing values with the median of the column longitude."
   ]
  },
  {
   "cell_type": "code",
   "execution_count": 125,
   "metadata": {},
   "outputs": [
    {
     "data": {
      "text/plain": [
       "76.71924999999999"
      ]
     },
     "execution_count": 125,
     "metadata": {},
     "output_type": "execute_result"
    }
   ],
   "source": [
    "# Checking for the median\n",
    "df['longitude'].median()"
   ]
  },
  {
   "cell_type": "code",
   "execution_count": 126,
   "metadata": {},
   "outputs": [],
   "source": [
    "# Replacing the missing values\n",
    "\n",
    "df['longitude'].fillna('76.72', inplace =True)"
   ]
  },
  {
   "cell_type": "code",
   "execution_count": 127,
   "metadata": {},
   "outputs": [
    {
     "data": {
      "text/plain": [
       "name                        0\n",
       "gppd_idnr                   0\n",
       "capacity_mw                 0\n",
       "latitude                    0\n",
       "longitude                   0\n",
       "primary_fuel                0\n",
       "other_fuel1                 0\n",
       "commissioning_year          0\n",
       "owner                     566\n",
       "source                      0\n",
       "geolocation_source         19\n",
       "year_of_capacity_data     388\n",
       "generation_gwh_2013         0\n",
       "generation_gwh_2014         0\n",
       "generation_gwh_2015         0\n",
       "generation_gwh_2016         0\n",
       "generation_gwh_2017         0\n",
       "generation_data_source    458\n",
       "dtype: int64"
      ]
     },
     "execution_count": 127,
     "metadata": {},
     "output_type": "execute_result"
    }
   ],
   "source": [
    "# Checking for the missing values again.\n",
    "\n",
    "df.isnull().sum()"
   ]
  },
  {
   "cell_type": "markdown",
   "metadata": {},
   "source": [
    "#### Analyzing the target column:"
   ]
  },
  {
   "cell_type": "code",
   "execution_count": 128,
   "metadata": {},
   "outputs": [
    {
     "data": {
      "text/plain": [
       "Coal       259\n",
       "Hydro      250\n",
       "Solar      127\n",
       "Wind       123\n",
       "Gas         69\n",
       "Biomass     50\n",
       "Oil         21\n",
       "Nuclear      9\n",
       "Name: primary_fuel, dtype: int64"
      ]
     },
     "execution_count": 128,
     "metadata": {},
     "output_type": "execute_result"
    }
   ],
   "source": [
    "# Checking the value counts.\n",
    "\n",
    "df['primary_fuel'].value_counts()"
   ]
  },
  {
   "cell_type": "code",
   "execution_count": 129,
   "metadata": {},
   "outputs": [
    {
     "data": {
      "image/png": "[encoded data removed]",
      "text/plain": [
       "<Figure size 576x432 with 1 Axes>"
      ]
     },
     "metadata": {
      "needs_background": "light"
     },
     "output_type": "display_data"
    }
   ],
   "source": [
    "# Plotting bar plot to show the distribution of target coulmn.\n",
    "\n",
    "plt.figure(figsize=[8,6])\n",
    "sns.countplot(x='primary_fuel', data=df)\n",
    "plt.xlabel('Fuel Type')\n",
    "plt.ylabel('Values')\n",
    "plt.title('Distribution of target column')\n",
    "plt.show()"
   ]
  },
  {
   "cell_type": "markdown",
   "metadata": {},
   "source": [
    "- We can see that the target column 'primary_fuel' is imbalanced. We'll balance it later."
   ]
  },
  {
   "cell_type": "code",
   "execution_count": 130,
   "metadata": {},
   "outputs": [
    {
     "data": {
      "image/png": "[encoded data removed]",
      "text/plain": [
       "<Figure size 576x432 with 1 Axes>"
      ]
     },
     "metadata": {
      "needs_background": "light"
     },
     "output_type": "display_data"
    }
   ],
   "source": [
    "# Checking the distribution of capacity of plants fuel type wise\n",
    "\n",
    "plt.figure(figsize=[8,6])\n",
    "sns.barplot(x='primary_fuel', y='capacity_mw', data=df)\n",
    "plt.xlabel('Fuel Type of the plant')\n",
    "plt.ylabel('Capacity in MW')\n",
    "plt.title('Plant Capacity Vs Fuel type')\n",
    "plt.show()"
   ]
  },
  {
   "cell_type": "markdown",
   "metadata": {},
   "source": [
    "- We can see that the Nuclear type power plants have highest capacity.\n",
    "- Coal type power plants have the second highest capacity."
   ]
  },
  {
   "cell_type": "code",
   "execution_count": 131,
   "metadata": {},
   "outputs": [
    {
     "data": {
      "image/png": "[encoded data removed]",
      "text/plain": [
       "<Figure size 4680x1296 with 1 Axes>"
      ]
     },
     "metadata": {
      "needs_background": "light"
     },
     "output_type": "display_data"
    }
   ],
   "source": [
    "# Checking the distribution of capacity Vs commissioning_year\n",
    "\n",
    "plt.figure(figsize=[65,18])\n",
    "sns.barplot(x='commissioning_year', y='capacity_mw', data=df)\n",
    "plt.xlabel('Commisioning Year')\n",
    "plt.ylabel('Capacity in MW')\n",
    "plt.title('Commisioning year Vs capacity of the plant')\n",
    "plt.show()"
   ]
  },
  {
   "cell_type": "markdown",
   "metadata": {},
   "source": [
    "- From the graph we can say that the new plants have more capacity than the older plants."
   ]
  },
  {
   "cell_type": "markdown",
   "metadata": {},
   "source": [
    "#### Label encoding the categorical variables:"
   ]
  },
  {
   "cell_type": "code",
   "execution_count": 132,
   "metadata": {},
   "outputs": [],
   "source": [
    "from sklearn.preprocessing import LabelEncoder\n",
    "\n",
    "label = LabelEncoder()\n",
    "\n",
    "variables = ['name', 'gppd_idnr', 'primary_fuel', 'other_fuel1', 'owner', 'source']\n",
    "for v in variables:\n",
    "    df[v] = label.fit_transform(df[v])"
   ]
  },
  {
   "cell_type": "code",
   "execution_count": 133,
   "metadata": {},
   "outputs": [],
   "source": [
    "# Dropping 'geolocation_source' \n",
    "\n",
    "df = df.drop('geolocation_source', axis=1)"
   ]
  },
  {
   "cell_type": "code",
   "execution_count": 134,
   "metadata": {},
   "outputs": [],
   "source": [
    "# Dropping 'generation_data_source'\n",
    "\n",
    "df = df.drop('generation_data_source', axis=1)"
   ]
  },
  {
   "cell_type": "code",
   "execution_count": 135,
   "metadata": {},
   "outputs": [
    {
     "data": {
      "text/html": [
       "<div>\n",
       "<style scoped>\n",
       "    .dataframe tbody tr th:only-of-type {\n",
       "        vertical-align: middle;\n",
       "    }\n",
       "\n",
       "    .dataframe tbody tr th {\n",
       "        vertical-align: top;\n",
       "    }\n",
       "\n",
       "    .dataframe thead th {\n",
       "        text-align: right;\n",
       "    }\n",
       "</style>\n",
       "<table border=\"1\" class=\"dataframe\">\n",
       "  <thead>\n",
       "    <tr style=\"text-align: right;\">\n",
       "      <th></th>\n",
       "      <th>name</th>\n",
       "      <th>gppd_idnr</th>\n",
       "      <th>capacity_mw</th>\n",
       "      <th>latitude</th>\n",
       "      <th>longitude</th>\n",
       "      <th>primary_fuel</th>\n",
       "      <th>other_fuel1</th>\n",
       "      <th>commissioning_year</th>\n",
       "      <th>owner</th>\n",
       "      <th>source</th>\n",
       "      <th>year_of_capacity_data</th>\n",
       "      <th>generation_gwh_2013</th>\n",
       "      <th>generation_gwh_2014</th>\n",
       "      <th>generation_gwh_2015</th>\n",
       "      <th>generation_gwh_2016</th>\n",
       "      <th>generation_gwh_2017</th>\n",
       "    </tr>\n",
       "  </thead>\n",
       "  <tbody>\n",
       "    <tr>\n",
       "      <th>0</th>\n",
       "      <td>0</td>\n",
       "      <td>658</td>\n",
       "      <td>2.5</td>\n",
       "      <td>28.1839</td>\n",
       "      <td>73.2407</td>\n",
       "      <td>6</td>\n",
       "      <td>0</td>\n",
       "      <td>2011</td>\n",
       "      <td>229</td>\n",
       "      <td>109</td>\n",
       "      <td>NaN</td>\n",
       "      <td>2304.059202</td>\n",
       "      <td>2420.393316</td>\n",
       "      <td>2414.072373</td>\n",
       "      <td>2453.936292</td>\n",
       "      <td>2531.754458</td>\n",
       "    </tr>\n",
       "    <tr>\n",
       "      <th>1</th>\n",
       "      <td>1</td>\n",
       "      <td>520</td>\n",
       "      <td>98.0</td>\n",
       "      <td>24.7663</td>\n",
       "      <td>74.609</td>\n",
       "      <td>1</td>\n",
       "      <td>0</td>\n",
       "      <td>2000</td>\n",
       "      <td>258</td>\n",
       "      <td>174</td>\n",
       "      <td>NaN</td>\n",
       "      <td>2304.059202</td>\n",
       "      <td>2420.393316</td>\n",
       "      <td>2414.072373</td>\n",
       "      <td>2453.936292</td>\n",
       "      <td>2531.754458</td>\n",
       "    </tr>\n",
       "    <tr>\n",
       "      <th>2</th>\n",
       "      <td>2</td>\n",
       "      <td>854</td>\n",
       "      <td>39.2</td>\n",
       "      <td>21.9038</td>\n",
       "      <td>69.3732</td>\n",
       "      <td>7</td>\n",
       "      <td>0</td>\n",
       "      <td>2000</td>\n",
       "      <td>2</td>\n",
       "      <td>21</td>\n",
       "      <td>NaN</td>\n",
       "      <td>2304.059202</td>\n",
       "      <td>2420.393316</td>\n",
       "      <td>2414.072373</td>\n",
       "      <td>2453.936292</td>\n",
       "      <td>2531.754458</td>\n",
       "    </tr>\n",
       "    <tr>\n",
       "      <th>3</th>\n",
       "      <td>3</td>\n",
       "      <td>0</td>\n",
       "      <td>135.0</td>\n",
       "      <td>23.8712</td>\n",
       "      <td>91.3602</td>\n",
       "      <td>2</td>\n",
       "      <td>0</td>\n",
       "      <td>2004</td>\n",
       "      <td>280</td>\n",
       "      <td>22</td>\n",
       "      <td>2018.0</td>\n",
       "      <td>631.777928</td>\n",
       "      <td>617.789264</td>\n",
       "      <td>843.747000</td>\n",
       "      <td>886.004428</td>\n",
       "      <td>663.774500</td>\n",
       "    </tr>\n",
       "    <tr>\n",
       "      <th>4</th>\n",
       "      <td>4</td>\n",
       "      <td>1</td>\n",
       "      <td>1800.0</td>\n",
       "      <td>21.9603</td>\n",
       "      <td>82.4091</td>\n",
       "      <td>1</td>\n",
       "      <td>3</td>\n",
       "      <td>2015</td>\n",
       "      <td>280</td>\n",
       "      <td>22</td>\n",
       "      <td>2018.0</td>\n",
       "      <td>1668.290000</td>\n",
       "      <td>3035.550000</td>\n",
       "      <td>5916.370000</td>\n",
       "      <td>6243.000000</td>\n",
       "      <td>5385.579736</td>\n",
       "    </tr>\n",
       "  </tbody>\n",
       "</table>\n",
       "</div>"
      ],
      "text/plain": [
       "   name  gppd_idnr  capacity_mw latitude longitude  primary_fuel  other_fuel1  \\\n",
       "0     0        658          2.5  28.1839   73.2407             6            0   \n",
       "1     1        520         98.0  24.7663    74.609             1            0   \n",
       "2     2        854         39.2  21.9038   69.3732             7            0   \n",
       "3     3          0        135.0  23.8712   91.3602             2            0   \n",
       "4     4          1       1800.0  21.9603   82.4091             1            3   \n",
       "\n",
       "  commissioning_year  owner  source  year_of_capacity_data  \\\n",
       "0               2011    229     109                    NaN   \n",
       "1               2000    258     174                    NaN   \n",
       "2               2000      2      21                    NaN   \n",
       "3               2004    280      22                 2018.0   \n",
       "4               2015    280      22                 2018.0   \n",
       "\n",
       "   generation_gwh_2013  generation_gwh_2014  generation_gwh_2015  \\\n",
       "0          2304.059202          2420.393316          2414.072373   \n",
       "1          2304.059202          2420.393316          2414.072373   \n",
       "2          2304.059202          2420.393316          2414.072373   \n",
       "3           631.777928           617.789264           843.747000   \n",
       "4          1668.290000          3035.550000          5916.370000   \n",
       "\n",
       "   generation_gwh_2016  generation_gwh_2017  \n",
       "0          2453.936292          2531.754458  \n",
       "1          2453.936292          2531.754458  \n",
       "2          2453.936292          2531.754458  \n",
       "3           886.004428           663.774500  \n",
       "4          6243.000000          5385.579736  "
      ]
     },
     "execution_count": 135,
     "metadata": {},
     "output_type": "execute_result"
    }
   ],
   "source": [
    "# Checking for the dataset again after label encoding\n",
    "\n",
    "df.head()"
   ]
  },
  {
   "cell_type": "markdown",
   "metadata": {},
   "source": [
    "#### Checking for the data distribution among all the columns:"
   ]
  },
  {
   "cell_type": "code",
   "execution_count": 136,
   "metadata": {},
   "outputs": [
    {
     "data": {
      "image/png": "[encoded data removed]",
      "text/plain": [
       "<Figure size 1296x864 with 16 Axes>"
      ]
     },
     "metadata": {
      "needs_background": "light"
     },
     "output_type": "display_data"
    }
   ],
   "source": [
    "df.plot(kind='density', subplots=True, layout=(4,4), sharex=False, legend=False, fontsize=1, figsize=[18,12])\n",
    "plt.show()"
   ]
  },
  {
   "cell_type": "markdown",
   "metadata": {},
   "source": [
    "- This shows that there are skewness in the dataset.\n",
    "- We'll check for the skewness later."
   ]
  },
  {
   "cell_type": "markdown",
   "metadata": {},
   "source": [
    "#### Checking for the Statistical Summary:"
   ]
  },
  {
   "cell_type": "code",
   "execution_count": 137,
   "metadata": {},
   "outputs": [
    {
     "data": {
      "text/html": [
       "<div>\n",
       "<style scoped>\n",
       "    .dataframe tbody tr th:only-of-type {\n",
       "        vertical-align: middle;\n",
       "    }\n",
       "\n",
       "    .dataframe tbody tr th {\n",
       "        vertical-align: top;\n",
       "    }\n",
       "\n",
       "    .dataframe thead th {\n",
       "        text-align: right;\n",
       "    }\n",
       "</style>\n",
       "<table border=\"1\" class=\"dataframe\">\n",
       "  <thead>\n",
       "    <tr style=\"text-align: right;\">\n",
       "      <th></th>\n",
       "      <th>name</th>\n",
       "      <th>gppd_idnr</th>\n",
       "      <th>capacity_mw</th>\n",
       "      <th>primary_fuel</th>\n",
       "      <th>other_fuel1</th>\n",
       "      <th>owner</th>\n",
       "      <th>source</th>\n",
       "      <th>year_of_capacity_data</th>\n",
       "      <th>generation_gwh_2013</th>\n",
       "      <th>generation_gwh_2014</th>\n",
       "      <th>generation_gwh_2015</th>\n",
       "      <th>generation_gwh_2016</th>\n",
       "      <th>generation_gwh_2017</th>\n",
       "    </tr>\n",
       "  </thead>\n",
       "  <tbody>\n",
       "    <tr>\n",
       "      <th>count</th>\n",
       "      <td>908.00000</td>\n",
       "      <td>908.00000</td>\n",
       "      <td>908.000000</td>\n",
       "      <td>908.000000</td>\n",
       "      <td>908.000000</td>\n",
       "      <td>908.000000</td>\n",
       "      <td>908.000000</td>\n",
       "      <td>520.0</td>\n",
       "      <td>908.000000</td>\n",
       "      <td>908.000000</td>\n",
       "      <td>908.000000</td>\n",
       "      <td>908.000000</td>\n",
       "      <td>908.000000</td>\n",
       "    </tr>\n",
       "    <tr>\n",
       "      <th>mean</th>\n",
       "      <td>453.50000</td>\n",
       "      <td>453.50000</td>\n",
       "      <td>321.046378</td>\n",
       "      <td>3.205947</td>\n",
       "      <td>0.653084</td>\n",
       "      <td>227.534141</td>\n",
       "      <td>43.823789</td>\n",
       "      <td>2018.0</td>\n",
       "      <td>2304.059202</td>\n",
       "      <td>2420.393316</td>\n",
       "      <td>2414.072373</td>\n",
       "      <td>2453.936292</td>\n",
       "      <td>2531.754458</td>\n",
       "    </tr>\n",
       "    <tr>\n",
       "      <th>std</th>\n",
       "      <td>262.26132</td>\n",
       "      <td>262.26132</td>\n",
       "      <td>580.221767</td>\n",
       "      <td>2.281339</td>\n",
       "      <td>1.236045</td>\n",
       "      <td>83.895877</td>\n",
       "      <td>44.624092</td>\n",
       "      <td>0.0</td>\n",
       "      <td>2465.930970</td>\n",
       "      <td>2665.360236</td>\n",
       "      <td>2860.146282</td>\n",
       "      <td>2878.730064</td>\n",
       "      <td>2923.041411</td>\n",
       "    </tr>\n",
       "    <tr>\n",
       "      <th>min</th>\n",
       "      <td>0.00000</td>\n",
       "      <td>0.00000</td>\n",
       "      <td>0.000000</td>\n",
       "      <td>0.000000</td>\n",
       "      <td>0.000000</td>\n",
       "      <td>0.000000</td>\n",
       "      <td>0.000000</td>\n",
       "      <td>2018.0</td>\n",
       "      <td>0.000000</td>\n",
       "      <td>0.000000</td>\n",
       "      <td>0.000000</td>\n",
       "      <td>0.000000</td>\n",
       "      <td>0.000000</td>\n",
       "    </tr>\n",
       "    <tr>\n",
       "      <th>25%</th>\n",
       "      <td>226.75000</td>\n",
       "      <td>226.75000</td>\n",
       "      <td>16.837500</td>\n",
       "      <td>1.000000</td>\n",
       "      <td>0.000000</td>\n",
       "      <td>188.750000</td>\n",
       "      <td>22.000000</td>\n",
       "      <td>2018.0</td>\n",
       "      <td>1332.538825</td>\n",
       "      <td>1175.264825</td>\n",
       "      <td>874.205000</td>\n",
       "      <td>826.629750</td>\n",
       "      <td>852.438887</td>\n",
       "    </tr>\n",
       "    <tr>\n",
       "      <th>50%</th>\n",
       "      <td>453.50000</td>\n",
       "      <td>453.50000</td>\n",
       "      <td>60.000000</td>\n",
       "      <td>3.000000</td>\n",
       "      <td>0.000000</td>\n",
       "      <td>280.000000</td>\n",
       "      <td>22.000000</td>\n",
       "      <td>2018.0</td>\n",
       "      <td>2304.059202</td>\n",
       "      <td>2420.393316</td>\n",
       "      <td>2414.072373</td>\n",
       "      <td>2453.936292</td>\n",
       "      <td>2531.754458</td>\n",
       "    </tr>\n",
       "    <tr>\n",
       "      <th>75%</th>\n",
       "      <td>680.25000</td>\n",
       "      <td>680.25000</td>\n",
       "      <td>388.125000</td>\n",
       "      <td>6.000000</td>\n",
       "      <td>0.000000</td>\n",
       "      <td>280.000000</td>\n",
       "      <td>29.250000</td>\n",
       "      <td>2018.0</td>\n",
       "      <td>2304.059202</td>\n",
       "      <td>2420.393316</td>\n",
       "      <td>2414.072373</td>\n",
       "      <td>2453.936292</td>\n",
       "      <td>2531.754458</td>\n",
       "    </tr>\n",
       "    <tr>\n",
       "      <th>max</th>\n",
       "      <td>907.00000</td>\n",
       "      <td>907.00000</td>\n",
       "      <td>4760.000000</td>\n",
       "      <td>7.000000</td>\n",
       "      <td>3.000000</td>\n",
       "      <td>280.000000</td>\n",
       "      <td>190.000000</td>\n",
       "      <td>2018.0</td>\n",
       "      <td>27586.200000</td>\n",
       "      <td>28127.000000</td>\n",
       "      <td>30539.000000</td>\n",
       "      <td>30015.000000</td>\n",
       "      <td>35116.000000</td>\n",
       "    </tr>\n",
       "  </tbody>\n",
       "</table>\n",
       "</div>"
      ],
      "text/plain": [
       "            name  gppd_idnr  capacity_mw  primary_fuel  other_fuel1  \\\n",
       "count  908.00000  908.00000   908.000000    908.000000   908.000000   \n",
       "mean   453.50000  453.50000   321.046378      3.205947     0.653084   \n",
       "std    262.26132  262.26132   580.221767      2.281339     1.236045   \n",
       "min      0.00000    0.00000     0.000000      0.000000     0.000000   \n",
       "25%    226.75000  226.75000    16.837500      1.000000     0.000000   \n",
       "50%    453.50000  453.50000    60.000000      3.000000     0.000000   \n",
       "75%    680.25000  680.25000   388.125000      6.000000     0.000000   \n",
       "max    907.00000  907.00000  4760.000000      7.000000     3.000000   \n",
       "\n",
       "            owner      source  year_of_capacity_data  generation_gwh_2013  \\\n",
       "count  908.000000  908.000000                  520.0           908.000000   \n",
       "mean   227.534141   43.823789                 2018.0          2304.059202   \n",
       "std     83.895877   44.624092                    0.0          2465.930970   \n",
       "min      0.000000    0.000000                 2018.0             0.000000   \n",
       "25%    188.750000   22.000000                 2018.0          1332.538825   \n",
       "50%    280.000000   22.000000                 2018.0          2304.059202   \n",
       "75%    280.000000   29.250000                 2018.0          2304.059202   \n",
       "max    280.000000  190.000000                 2018.0         27586.200000   \n",
       "\n",
       "       generation_gwh_2014  generation_gwh_2015  generation_gwh_2016  \\\n",
       "count           908.000000           908.000000           908.000000   \n",
       "mean           2420.393316          2414.072373          2453.936292   \n",
       "std            2665.360236          2860.146282          2878.730064   \n",
       "min               0.000000             0.000000             0.000000   \n",
       "25%            1175.264825           874.205000           826.629750   \n",
       "50%            2420.393316          2414.072373          2453.936292   \n",
       "75%            2420.393316          2414.072373          2453.936292   \n",
       "max           28127.000000         30539.000000         30015.000000   \n",
       "\n",
       "       generation_gwh_2017  \n",
       "count           908.000000  \n",
       "mean           2531.754458  \n",
       "std            2923.041411  \n",
       "min               0.000000  \n",
       "25%             852.438887  \n",
       "50%            2531.754458  \n",
       "75%            2531.754458  \n",
       "max           35116.000000  "
      ]
     },
     "execution_count": 137,
     "metadata": {},
     "output_type": "execute_result"
    }
   ],
   "source": [
    "df.describe()"
   ]
  },
  {
   "cell_type": "code",
   "execution_count": 138,
   "metadata": {},
   "outputs": [
    {
     "data": {
      "image/png": "[encoded data removed]",
      "text/plain": [
       "<Figure size 1800x1080 with 2 Axes>"
      ]
     },
     "metadata": {
      "needs_background": "light"
     },
     "output_type": "display_data"
    }
   ],
   "source": [
    "# Plotting Heatmap for Statistical Summary\n",
    "\n",
    "plt.figure(figsize=[25,15])\n",
    "sns.heatmap(round(df.describe()[1:].transpose(),2), annot=True, linewidths=0.25, linecolor='white', fmt='f')\n",
    "plt.title('Statistical Summary')\n",
    "plt.show()"
   ]
  },
  {
   "cell_type": "markdown",
   "metadata": {},
   "source": [
    "#### Checking for the Correlation of the variables:"
   ]
  },
  {
   "cell_type": "code",
   "execution_count": 139,
   "metadata": {},
   "outputs": [
    {
     "data": {
      "text/html": [
       "<div>\n",
       "<style scoped>\n",
       "    .dataframe tbody tr th:only-of-type {\n",
       "        vertical-align: middle;\n",
       "    }\n",
       "\n",
       "    .dataframe tbody tr th {\n",
       "        vertical-align: top;\n",
       "    }\n",
       "\n",
       "    .dataframe thead th {\n",
       "        text-align: right;\n",
       "    }\n",
       "</style>\n",
       "<table border=\"1\" class=\"dataframe\">\n",
       "  <thead>\n",
       "    <tr style=\"text-align: right;\">\n",
       "      <th></th>\n",
       "      <th>name</th>\n",
       "      <th>gppd_idnr</th>\n",
       "      <th>capacity_mw</th>\n",
       "      <th>primary_fuel</th>\n",
       "      <th>other_fuel1</th>\n",
       "      <th>owner</th>\n",
       "      <th>source</th>\n",
       "      <th>year_of_capacity_data</th>\n",
       "      <th>generation_gwh_2013</th>\n",
       "      <th>generation_gwh_2014</th>\n",
       "      <th>generation_gwh_2015</th>\n",
       "      <th>generation_gwh_2016</th>\n",
       "      <th>generation_gwh_2017</th>\n",
       "    </tr>\n",
       "  </thead>\n",
       "  <tbody>\n",
       "    <tr>\n",
       "      <th>name</th>\n",
       "      <td>1.000000</td>\n",
       "      <td>0.336792</td>\n",
       "      <td>0.059870</td>\n",
       "      <td>0.038752</td>\n",
       "      <td>0.019293</td>\n",
       "      <td>1.167146e-01</td>\n",
       "      <td>-1.380057e-02</td>\n",
       "      <td>NaN</td>\n",
       "      <td>8.269905e-02</td>\n",
       "      <td>8.491457e-02</td>\n",
       "      <td>7.514018e-02</td>\n",
       "      <td>6.780015e-02</td>\n",
       "      <td>7.526164e-02</td>\n",
       "    </tr>\n",
       "    <tr>\n",
       "      <th>gppd_idnr</th>\n",
       "      <td>0.336792</td>\n",
       "      <td>1.000000</td>\n",
       "      <td>-0.334308</td>\n",
       "      <td>0.607373</td>\n",
       "      <td>-0.383402</td>\n",
       "      <td>-6.021076e-01</td>\n",
       "      <td>4.165747e-01</td>\n",
       "      <td>NaN</td>\n",
       "      <td>4.418679e-02</td>\n",
       "      <td>4.539080e-02</td>\n",
       "      <td>3.996483e-02</td>\n",
       "      <td>2.794672e-02</td>\n",
       "      <td>2.407891e-02</td>\n",
       "    </tr>\n",
       "    <tr>\n",
       "      <th>capacity_mw</th>\n",
       "      <td>0.059870</td>\n",
       "      <td>-0.334308</td>\n",
       "      <td>1.000000</td>\n",
       "      <td>-0.377783</td>\n",
       "      <td>0.625123</td>\n",
       "      <td>3.036718e-01</td>\n",
       "      <td>-2.417009e-01</td>\n",
       "      <td>NaN</td>\n",
       "      <td>6.678419e-01</td>\n",
       "      <td>7.054341e-01</td>\n",
       "      <td>7.220814e-01</td>\n",
       "      <td>7.528288e-01</td>\n",
       "      <td>7.670398e-01</td>\n",
       "    </tr>\n",
       "    <tr>\n",
       "      <th>primary_fuel</th>\n",
       "      <td>0.038752</td>\n",
       "      <td>0.607373</td>\n",
       "      <td>-0.377783</td>\n",
       "      <td>1.000000</td>\n",
       "      <td>-0.497001</td>\n",
       "      <td>-2.601736e-01</td>\n",
       "      <td>5.360860e-02</td>\n",
       "      <td>NaN</td>\n",
       "      <td>-1.205116e-01</td>\n",
       "      <td>-1.249997e-01</td>\n",
       "      <td>-1.251376e-01</td>\n",
       "      <td>-1.313584e-01</td>\n",
       "      <td>-1.321741e-01</td>\n",
       "    </tr>\n",
       "    <tr>\n",
       "      <th>other_fuel1</th>\n",
       "      <td>0.019293</td>\n",
       "      <td>-0.383402</td>\n",
       "      <td>0.625123</td>\n",
       "      <td>-0.497001</td>\n",
       "      <td>1.000000</td>\n",
       "      <td>3.307876e-01</td>\n",
       "      <td>-2.586865e-01</td>\n",
       "      <td>NaN</td>\n",
       "      <td>3.427008e-01</td>\n",
       "      <td>3.578344e-01</td>\n",
       "      <td>3.540715e-01</td>\n",
       "      <td>3.734064e-01</td>\n",
       "      <td>3.830844e-01</td>\n",
       "    </tr>\n",
       "    <tr>\n",
       "      <th>owner</th>\n",
       "      <td>0.116715</td>\n",
       "      <td>-0.602108</td>\n",
       "      <td>0.303672</td>\n",
       "      <td>-0.260174</td>\n",
       "      <td>0.330788</td>\n",
       "      <td>1.000000e+00</td>\n",
       "      <td>-2.438403e-01</td>\n",
       "      <td>NaN</td>\n",
       "      <td>-4.798636e-17</td>\n",
       "      <td>-3.967998e-17</td>\n",
       "      <td>2.878648e-17</td>\n",
       "      <td>3.868733e-17</td>\n",
       "      <td>1.421944e-16</td>\n",
       "    </tr>\n",
       "    <tr>\n",
       "      <th>source</th>\n",
       "      <td>-0.013801</td>\n",
       "      <td>0.416575</td>\n",
       "      <td>-0.241701</td>\n",
       "      <td>0.053609</td>\n",
       "      <td>-0.258687</td>\n",
       "      <td>-2.438403e-01</td>\n",
       "      <td>1.000000e+00</td>\n",
       "      <td>NaN</td>\n",
       "      <td>1.148485e-16</td>\n",
       "      <td>1.129442e-17</td>\n",
       "      <td>3.266585e-17</td>\n",
       "      <td>2.296820e-17</td>\n",
       "      <td>-1.191072e-16</td>\n",
       "    </tr>\n",
       "    <tr>\n",
       "      <th>year_of_capacity_data</th>\n",
       "      <td>NaN</td>\n",
       "      <td>NaN</td>\n",
       "      <td>NaN</td>\n",
       "      <td>NaN</td>\n",
       "      <td>NaN</td>\n",
       "      <td>NaN</td>\n",
       "      <td>NaN</td>\n",
       "      <td>NaN</td>\n",
       "      <td>NaN</td>\n",
       "      <td>NaN</td>\n",
       "      <td>NaN</td>\n",
       "      <td>NaN</td>\n",
       "      <td>NaN</td>\n",
       "    </tr>\n",
       "    <tr>\n",
       "      <th>generation_gwh_2013</th>\n",
       "      <td>0.082699</td>\n",
       "      <td>0.044187</td>\n",
       "      <td>0.667842</td>\n",
       "      <td>-0.120512</td>\n",
       "      <td>0.342701</td>\n",
       "      <td>-4.798636e-17</td>\n",
       "      <td>1.148485e-16</td>\n",
       "      <td>NaN</td>\n",
       "      <td>1.000000e+00</td>\n",
       "      <td>9.634535e-01</td>\n",
       "      <td>8.963761e-01</td>\n",
       "      <td>8.735420e-01</td>\n",
       "      <td>8.306385e-01</td>\n",
       "    </tr>\n",
       "    <tr>\n",
       "      <th>generation_gwh_2014</th>\n",
       "      <td>0.084915</td>\n",
       "      <td>0.045391</td>\n",
       "      <td>0.705434</td>\n",
       "      <td>-0.125000</td>\n",
       "      <td>0.357834</td>\n",
       "      <td>-3.967998e-17</td>\n",
       "      <td>1.129442e-17</td>\n",
       "      <td>NaN</td>\n",
       "      <td>9.634535e-01</td>\n",
       "      <td>1.000000e+00</td>\n",
       "      <td>9.537116e-01</td>\n",
       "      <td>9.260100e-01</td>\n",
       "      <td>8.918721e-01</td>\n",
       "    </tr>\n",
       "    <tr>\n",
       "      <th>generation_gwh_2015</th>\n",
       "      <td>0.075140</td>\n",
       "      <td>0.039965</td>\n",
       "      <td>0.722081</td>\n",
       "      <td>-0.125138</td>\n",
       "      <td>0.354071</td>\n",
       "      <td>2.878648e-17</td>\n",
       "      <td>3.266585e-17</td>\n",
       "      <td>NaN</td>\n",
       "      <td>8.963761e-01</td>\n",
       "      <td>9.537116e-01</td>\n",
       "      <td>1.000000e+00</td>\n",
       "      <td>9.689693e-01</td>\n",
       "      <td>9.284589e-01</td>\n",
       "    </tr>\n",
       "    <tr>\n",
       "      <th>generation_gwh_2016</th>\n",
       "      <td>0.067800</td>\n",
       "      <td>0.027947</td>\n",
       "      <td>0.752829</td>\n",
       "      <td>-0.131358</td>\n",
       "      <td>0.373406</td>\n",
       "      <td>3.868733e-17</td>\n",
       "      <td>2.296820e-17</td>\n",
       "      <td>NaN</td>\n",
       "      <td>8.735420e-01</td>\n",
       "      <td>9.260100e-01</td>\n",
       "      <td>9.689693e-01</td>\n",
       "      <td>1.000000e+00</td>\n",
       "      <td>9.647861e-01</td>\n",
       "    </tr>\n",
       "    <tr>\n",
       "      <th>generation_gwh_2017</th>\n",
       "      <td>0.075262</td>\n",
       "      <td>0.024079</td>\n",
       "      <td>0.767040</td>\n",
       "      <td>-0.132174</td>\n",
       "      <td>0.383084</td>\n",
       "      <td>1.421944e-16</td>\n",
       "      <td>-1.191072e-16</td>\n",
       "      <td>NaN</td>\n",
       "      <td>8.306385e-01</td>\n",
       "      <td>8.918721e-01</td>\n",
       "      <td>9.284589e-01</td>\n",
       "      <td>9.647861e-01</td>\n",
       "      <td>1.000000e+00</td>\n",
       "    </tr>\n",
       "  </tbody>\n",
       "</table>\n",
       "</div>"
      ],
      "text/plain": [
       "                           name  gppd_idnr  capacity_mw  primary_fuel  \\\n",
       "name                   1.000000   0.336792     0.059870      0.038752   \n",
       "gppd_idnr              0.336792   1.000000    -0.334308      0.607373   \n",
       "capacity_mw            0.059870  -0.334308     1.000000     -0.377783   \n",
       "primary_fuel           0.038752   0.607373    -0.377783      1.000000   \n",
       "other_fuel1            0.019293  -0.383402     0.625123     -0.497001   \n",
       "owner                  0.116715  -0.602108     0.303672     -0.260174   \n",
       "source                -0.013801   0.416575    -0.241701      0.053609   \n",
       "year_of_capacity_data       NaN        NaN          NaN           NaN   \n",
       "generation_gwh_2013    0.082699   0.044187     0.667842     -0.120512   \n",
       "generation_gwh_2014    0.084915   0.045391     0.705434     -0.125000   \n",
       "generation_gwh_2015    0.075140   0.039965     0.722081     -0.125138   \n",
       "generation_gwh_2016    0.067800   0.027947     0.752829     -0.131358   \n",
       "generation_gwh_2017    0.075262   0.024079     0.767040     -0.132174   \n",
       "\n",
       "                       other_fuel1         owner        source  \\\n",
       "name                      0.019293  1.167146e-01 -1.380057e-02   \n",
       "gppd_idnr                -0.383402 -6.021076e-01  4.165747e-01   \n",
       "capacity_mw               0.625123  3.036718e-01 -2.417009e-01   \n",
       "primary_fuel             -0.497001 -2.601736e-01  5.360860e-02   \n",
       "other_fuel1               1.000000  3.307876e-01 -2.586865e-01   \n",
       "owner                     0.330788  1.000000e+00 -2.438403e-01   \n",
       "source                   -0.258687 -2.438403e-01  1.000000e+00   \n",
       "year_of_capacity_data          NaN           NaN           NaN   \n",
       "generation_gwh_2013       0.342701 -4.798636e-17  1.148485e-16   \n",
       "generation_gwh_2014       0.357834 -3.967998e-17  1.129442e-17   \n",
       "generation_gwh_2015       0.354071  2.878648e-17  3.266585e-17   \n",
       "generation_gwh_2016       0.373406  3.868733e-17  2.296820e-17   \n",
       "generation_gwh_2017       0.383084  1.421944e-16 -1.191072e-16   \n",
       "\n",
       "                       year_of_capacity_data  generation_gwh_2013  \\\n",
       "name                                     NaN         8.269905e-02   \n",
       "gppd_idnr                                NaN         4.418679e-02   \n",
       "capacity_mw                              NaN         6.678419e-01   \n",
       "primary_fuel                             NaN        -1.205116e-01   \n",
       "other_fuel1                              NaN         3.427008e-01   \n",
       "owner                                    NaN        -4.798636e-17   \n",
       "source                                   NaN         1.148485e-16   \n",
       "year_of_capacity_data                    NaN                  NaN   \n",
       "generation_gwh_2013                      NaN         1.000000e+00   \n",
       "generation_gwh_2014                      NaN         9.634535e-01   \n",
       "generation_gwh_2015                      NaN         8.963761e-01   \n",
       "generation_gwh_2016                      NaN         8.735420e-01   \n",
       "generation_gwh_2017                      NaN         8.306385e-01   \n",
       "\n",
       "                       generation_gwh_2014  generation_gwh_2015  \\\n",
       "name                          8.491457e-02         7.514018e-02   \n",
       "gppd_idnr                     4.539080e-02         3.996483e-02   \n",
       "capacity_mw                   7.054341e-01         7.220814e-01   \n",
       "primary_fuel                 -1.249997e-01        -1.251376e-01   \n",
       "other_fuel1                   3.578344e-01         3.540715e-01   \n",
       "owner                        -3.967998e-17         2.878648e-17   \n",
       "source                        1.129442e-17         3.266585e-17   \n",
       "year_of_capacity_data                  NaN                  NaN   \n",
       "generation_gwh_2013           9.634535e-01         8.963761e-01   \n",
       "generation_gwh_2014           1.000000e+00         9.537116e-01   \n",
       "generation_gwh_2015           9.537116e-01         1.000000e+00   \n",
       "generation_gwh_2016           9.260100e-01         9.689693e-01   \n",
       "generation_gwh_2017           8.918721e-01         9.284589e-01   \n",
       "\n",
       "                       generation_gwh_2016  generation_gwh_2017  \n",
       "name                          6.780015e-02         7.526164e-02  \n",
       "gppd_idnr                     2.794672e-02         2.407891e-02  \n",
       "capacity_mw                   7.528288e-01         7.670398e-01  \n",
       "primary_fuel                 -1.313584e-01        -1.321741e-01  \n",
       "other_fuel1                   3.734064e-01         3.830844e-01  \n",
       "owner                         3.868733e-17         1.421944e-16  \n",
       "source                        2.296820e-17        -1.191072e-16  \n",
       "year_of_capacity_data                  NaN                  NaN  \n",
       "generation_gwh_2013           8.735420e-01         8.306385e-01  \n",
       "generation_gwh_2014           9.260100e-01         8.918721e-01  \n",
       "generation_gwh_2015           9.689693e-01         9.284589e-01  \n",
       "generation_gwh_2016           1.000000e+00         9.647861e-01  \n",
       "generation_gwh_2017           9.647861e-01         1.000000e+00  "
      ]
     },
     "execution_count": 139,
     "metadata": {},
     "output_type": "execute_result"
    }
   ],
   "source": [
    "df.corr()"
   ]
  },
  {
   "cell_type": "code",
   "execution_count": 140,
   "metadata": {},
   "outputs": [
    {
     "data": {
      "image/png": "[encoded data removed]",
      "text/plain": [
       "<Figure size 1296x432 with 2 Axes>"
      ]
     },
     "metadata": {
      "needs_background": "light"
     },
     "output_type": "display_data"
    }
   ],
   "source": [
    "### Plotting heatmap for the correlation table\n",
    "\n",
    "plt.figure(figsize=[18,6])\n",
    "sns.heatmap(round(df.corr()[1:].transpose(),2), annot=True, linewidths=0.25, linecolor='white', fmt='f')\n",
    "plt.title('Correlation Table')\n",
    "plt.show()"
   ]
  },
  {
   "cell_type": "markdown",
   "metadata": {},
   "source": [
    "#### Outcomes of Correlation table\n",
    "\n",
    "1. For 'capacity_mw' target column\n",
    "    - name column has 6% correlation with the target column 'capacity_mw'\n",
    "    - gppd_idnr has -33% correlation with the target column 'capacity_mw', which can be considered as very weak bond.\n",
    "    - latitude has 5% correlation with the target column 'capacity_mw'.\n",
    "    - longitude has 20% correlation with the target column 'capacity_mw'.\n",
    "    - primary_fuel has -38% correlation with the target column 'capacity_mw', which can be considered as very weak bond.\n",
    "    - other_fuel1 has 0% correlation with the target column.\n",
    "    - owner column has 30% correlation with the target column, which can be considered as strong bond.\n",
    "    - source has -24% correlation.(very weak bond)\n",
    "    - year_of_capacity_data has no values so we'll drop this column.\n",
    "    - generation_gwh_2013 has 67% correlation which can be considered as very strong bond.\n",
    "    - generation_gwh_2014 has 71% correlation which can be considered as very strong bond.\n",
    "    - generation_gwh_2015 has 72% correlation which can be considered as very strong bond.\n",
    "    - generation_gwh_2016 has 75% correlation which can be considerd as very strong bond.\n",
    "    - generation_gwh_2017 has 77% correlation which can be considered as very strong bond.\n",
    "    \n",
    "-----------------------------------------------------------------------------------------------------\n",
    "\n",
    "2. For 'primary_fuel' as target column\n",
    "    - name column has 4% correlation.\n",
    "    - gppd_idnr has 61% correlation which can be considered as very strong bond.\n",
    "    - capacity_mw has -38% correlation, which can be considerd as very weak bond.\n",
    "    - latitude has -1% correlation.\n",
    "    - longitude has -36% correlation which can be considerd as very weak bond.\n",
    "    - otherfuel1 has 0% correlation.\n",
    "    - owner has -26% correlation, which can be considered as very weak bond.\n",
    "    - source has 5% correlation.\n",
    "    - generation_gwh_2013 has -12% correlation.(weak bond)\n",
    "    - generation_gwh_2014 has -12% correlation. (weak bond)\n",
    "    - generation_gwh_2015 has -13% correlation. (weak bond)\n",
    "    - generation_gwh_2016 has -13% correlation. (weak bond)\n",
    "    - generation_gwh_2017 has -13% correlation. (weak bond)"
   ]
  },
  {
   "cell_type": "code",
   "execution_count": 141,
   "metadata": {},
   "outputs": [],
   "source": [
    "# dropping the columns which are not contributing to the dataset\n",
    "\n",
    "df = df.drop('other_fuel1', axis=1)\n",
    "df = df.drop('year_of_capacity_data', axis=1)"
   ]
  },
  {
   "cell_type": "markdown",
   "metadata": {},
   "source": [
    "#### Checking for outliers and skewness:"
   ]
  },
  {
   "cell_type": "code",
   "execution_count": 142,
   "metadata": {},
   "outputs": [],
   "source": [
    "# Splitting the data in independent and target variable.\n",
    "# 'primary_fuel' as target variable:\n",
    "x = df.drop(['primary_fuel'],axis=1)\n",
    "y = df['primary_fuel']\n",
    "\n",
    "# 'capacity_mw' as target variable:\n",
    "\n",
    "x1 = df.drop(['capacity_mw'], axis=1)\n",
    "y1 = df['capacity_mw']"
   ]
  },
  {
   "cell_type": "code",
   "execution_count": 143,
   "metadata": {},
   "outputs": [
    {
     "data": {
      "text/plain": [
       "name                   0.000000\n",
       "gppd_idnr              0.000000\n",
       "capacity_mw            3.193257\n",
       "latitude              -0.161811\n",
       "longitude              1.150944\n",
       "commissioning_year    -1.650230\n",
       "owner                 -1.375607\n",
       "source                 1.829145\n",
       "generation_gwh_2013    5.241491\n",
       "generation_gwh_2014    5.041961\n",
       "generation_gwh_2015    5.367370\n",
       "generation_gwh_2016    5.071758\n",
       "generation_gwh_2017    5.111938\n",
       "dtype: float64"
      ]
     },
     "execution_count": 143,
     "metadata": {},
     "output_type": "execute_result"
    }
   ],
   "source": [
    "#cheking for skewness in x\n",
    "\n",
    "x.skew()"
   ]
  },
  {
   "cell_type": "markdown",
   "metadata": {},
   "source": [
    "- Following columns have skewness:\n",
    "    - capacity_mw\n",
    "    - longitude\n",
    "    - commissioning_year\n",
    "    - source\n",
    "    - generation_gwh_2013\n",
    "    - generation_gwh_2014\n",
    "    - generation_gwh_2015\n",
    "    - generation_gwh_2016\n",
    "    - generation_gwh_2017"
   ]
  },
  {
   "cell_type": "markdown",
   "metadata": {},
   "source": [
    "#### Remove the skewness:\n",
    "We're using power_transform function to remove skewness from the dataset."
   ]
  },
  {
   "cell_type": "code",
   "execution_count": 144,
   "metadata": {},
   "outputs": [
    {
     "data": {
      "text/plain": [
       "name                  -0.288181\n",
       "gppd_idnr             -0.288181\n",
       "capacity_mw            0.020461\n",
       "latitude              -0.077161\n",
       "longitude              0.002083\n",
       "commissioning_year    -0.426588\n",
       "owner                 -1.026460\n",
       "source                -0.214850\n",
       "generation_gwh_2013    0.180340\n",
       "generation_gwh_2014    0.124543\n",
       "generation_gwh_2015    0.070937\n",
       "generation_gwh_2016    0.038668\n",
       "generation_gwh_2017    0.013392\n",
       "dtype: float64"
      ]
     },
     "execution_count": 144,
     "metadata": {},
     "output_type": "execute_result"
    }
   ],
   "source": [
    "# Removing skewness from 'x'\n",
    "from sklearn.preprocessing import power_transform\n",
    "\n",
    "df_new = power_transform(x)\n",
    "\n",
    "df_new = pd.DataFrame(df_new, columns=x.columns)\n",
    "\n",
    "df_new.skew()"
   ]
  },
  {
   "cell_type": "markdown",
   "metadata": {},
   "source": [
    "#### Standard Scaler:"
   ]
  },
  {
   "cell_type": "code",
   "execution_count": 146,
   "metadata": {},
   "outputs": [
    {
     "data": {
      "text/plain": [
       "array([[-1.73014431e+00,  7.80186355e-01, -5.49310543e-01, ...,\n",
       "         0.00000000e+00, -1.58055100e-16, -1.55659091e-16],\n",
       "       [-1.72632922e+00,  2.53703631e-01, -3.84627594e-01, ...,\n",
       "         0.00000000e+00, -1.58055100e-16, -1.55659091e-16],\n",
       "       [-1.72251413e+00,  1.52794443e+00, -4.86024006e-01, ...,\n",
       "         0.00000000e+00, -1.58055100e-16, -1.55659091e-16],\n",
       "       ...,\n",
       "       [ 1.72251413e+00,  1.67291793e+00, -5.09648681e-01, ...,\n",
       "         0.00000000e+00, -1.58055100e-16, -1.55659091e-16],\n",
       "       [ 1.72632922e+00,  3.30005475e-01, -4.15667312e-01, ...,\n",
       "         0.00000000e+00, -1.58055100e-16, -1.55659091e-16],\n",
       "       [ 1.73014431e+00,  1.61569155e+00, -5.25168540e-01, ...,\n",
       "         0.00000000e+00, -1.58055100e-16, -1.55659091e-16]])"
      ]
     },
     "execution_count": 146,
     "metadata": {},
     "output_type": "execute_result"
    }
   ],
   "source": [
    "from sklearn.preprocessing import StandardScaler\n",
    "scaler = StandardScaler()\n",
    "x = scaler.fit_transform(x)\n",
    "x"
   ]
  },
  {
   "cell_type": "markdown",
   "metadata": {},
   "source": [
    "#### Handling data imbalance by oversampling:"
   ]
  },
  {
   "cell_type": "code",
   "execution_count": 148,
   "metadata": {},
   "outputs": [],
   "source": [
    "from imblearn.over_sampling import SMOTE\n",
    "Sm = SMOTE()\n",
    "x_over, y_over = Sm.fit_resample(x,y)"
   ]
  },
  {
   "cell_type": "code",
   "execution_count": 149,
   "metadata": {},
   "outputs": [
    {
     "data": {
      "text/plain": [
       "7    259\n",
       "5    259\n",
       "3    259\n",
       "1    259\n",
       "6    259\n",
       "4    259\n",
       "2    259\n",
       "0    259\n",
       "Name: primary_fuel, dtype: int64"
      ]
     },
     "execution_count": 149,
     "metadata": {},
     "output_type": "execute_result"
    }
   ],
   "source": [
    "y_over.value_counts()"
   ]
  },
  {
   "cell_type": "markdown",
   "metadata": {},
   "source": [
    "#### Finding best RandomState:"
   ]
  },
  {
   "cell_type": "code",
   "execution_count": 150,
   "metadata": {},
   "outputs": [
    {
     "name": "stdout",
     "output_type": "stream",
     "text": [
      "The best accuracy is  0.8006430868167203  on Random_State  212\n"
     ]
    }
   ],
   "source": [
    "from sklearn.linear_model import LogisticRegression\n",
    "maxAccu = 0\n",
    "maxRS = 0\n",
    "\n",
    "for i in range (0,600):\n",
    "    x_train, x_test, y_train, y_test = train_test_split(x_over,y_over,test_size=0.30,random_state=i)\n",
    "    LR = LogisticRegression()\n",
    "    LR.fit(x_train,y_train)\n",
    "    predlr = LR.predict(x_test)\n",
    "    acc = accuracy_score(y_test, predlr)\n",
    "    if acc>maxAccu:\n",
    "        maxAccu = acc\n",
    "        maxRS = i\n",
    "        \n",
    "print('The best accuracy is ',maxAccu, ' on Random_State ',maxRS)"
   ]
  },
  {
   "cell_type": "markdown",
   "metadata": {},
   "source": [
    "#### Data preprocessing: (for fuel_type prediction)"
   ]
  },
  {
   "cell_type": "code",
   "execution_count": 151,
   "metadata": {},
   "outputs": [],
   "source": [
    "from sklearn.model_selection import train_test_split\n",
    "x_train, x_test, y_train, y_test = train_test_split(x_over, y_over, test_size=0.30, random_state=212)"
   ]
  },
  {
   "cell_type": "markdown",
   "metadata": {},
   "source": [
    "#### Model Training for fuel_type prediction"
   ]
  },
  {
   "cell_type": "markdown",
   "metadata": {},
   "source": [
    "#### LogisticRegression:"
   ]
  },
  {
   "cell_type": "code",
   "execution_count": 152,
   "metadata": {},
   "outputs": [
    {
     "name": "stdout",
     "output_type": "stream",
     "text": [
      "0.8006430868167203\n",
      "[[82  2  0  0  0  9  1  0]\n",
      " [ 7 38  9  2  5  1  1  0]\n",
      " [ 3 10 42 10  3 10  0  0]\n",
      " [ 0  6  5 53  6  8  0  0]\n",
      " [ 0  0  0  7 67  0  0  0]\n",
      " [ 4  1  3  3  0 54  0  0]\n",
      " [ 4  0  0  0  0  0 74  1]\n",
      " [ 0  0  0  0  0  0  3 88]]\n",
      "              precision    recall  f1-score   support\n",
      "\n",
      "           0       0.82      0.87      0.85        94\n",
      "           1       0.67      0.60      0.63        63\n",
      "           2       0.71      0.54      0.61        78\n",
      "           3       0.71      0.68      0.69        78\n",
      "           4       0.83      0.91      0.86        74\n",
      "           5       0.66      0.83      0.73        65\n",
      "           6       0.94      0.94      0.94        79\n",
      "           7       0.99      0.97      0.98        91\n",
      "\n",
      "    accuracy                           0.80       622\n",
      "   macro avg       0.79      0.79      0.79       622\n",
      "weighted avg       0.80      0.80      0.80       622\n",
      "\n"
     ]
    }
   ],
   "source": [
    "from sklearn.linear_model import LogisticRegression\n",
    "\n",
    "lr = LogisticRegression()\n",
    "lr.fit(x_train,y_train)\n",
    "predlr = lr.predict(x_test)\n",
    "print(accuracy_score(y_test,predlr))\n",
    "print(confusion_matrix(y_test,predlr))\n",
    "print(classification_report(y_test,predlr))"
   ]
  },
  {
   "cell_type": "markdown",
   "metadata": {},
   "source": [
    "From LogisticRegression, we're getting 80% accuracy score"
   ]
  },
  {
   "cell_type": "markdown",
   "metadata": {},
   "source": [
    "#### RandomForestClassifier:"
   ]
  },
  {
   "cell_type": "code",
   "execution_count": 153,
   "metadata": {},
   "outputs": [
    {
     "name": "stdout",
     "output_type": "stream",
     "text": [
      "0.9292604501607717\n",
      "[[89  5  0  0  0  0  0  0]\n",
      " [ 3 49  3  3  4  1  0  0]\n",
      " [ 0  4 69  4  0  1  0  0]\n",
      " [ 0  7  5 64  1  1  0  0]\n",
      " [ 0  0  0  0 74  0  0  0]\n",
      " [ 0  0  0  1  0 64  0  0]\n",
      " [ 0  0  0  0  0  0 78  1]\n",
      " [ 0  0  0  0  0  0  0 91]]\n",
      "              precision    recall  f1-score   support\n",
      "\n",
      "           0       0.97      0.95      0.96        94\n",
      "           1       0.75      0.78      0.77        63\n",
      "           2       0.90      0.88      0.89        78\n",
      "           3       0.89      0.82      0.85        78\n",
      "           4       0.94      1.00      0.97        74\n",
      "           5       0.96      0.98      0.97        65\n",
      "           6       1.00      0.99      0.99        79\n",
      "           7       0.99      1.00      0.99        91\n",
      "\n",
      "    accuracy                           0.93       622\n",
      "   macro avg       0.92      0.93      0.92       622\n",
      "weighted avg       0.93      0.93      0.93       622\n",
      "\n"
     ]
    }
   ],
   "source": [
    "from sklearn.ensemble import RandomForestClassifier\n",
    "\n",
    "RF = RandomForestClassifier()\n",
    "RF.fit(x_train, y_train)\n",
    "predRF = RF.predict(x_test)\n",
    "print(accuracy_score(y_test, predRF))\n",
    "print(confusion_matrix(y_test, predRF))\n",
    "print(classification_report(y_test, predRF))"
   ]
  },
  {
   "cell_type": "markdown",
   "metadata": {},
   "source": [
    "From RandomForest Classifier, we're getting 93% accuracy score."
   ]
  },
  {
   "cell_type": "markdown",
   "metadata": {},
   "source": [
    "#### DecisionTreeClassifier:"
   ]
  },
  {
   "cell_type": "code",
   "execution_count": 154,
   "metadata": {},
   "outputs": [
    {
     "name": "stdout",
     "output_type": "stream",
     "text": [
      "0.8922829581993569\n",
      "[[88  5  0  0  0  1  0  0]\n",
      " [ 2 45  7  4  4  1  0  0]\n",
      " [ 0  4 57 16  0  1  0  0]\n",
      " [ 0  6  4 65  2  1  0  0]\n",
      " [ 0  4  0  0 70  0  0  0]\n",
      " [ 0  1  3  0  0 61  0  0]\n",
      " [ 0  0  0  0  0  0 78  1]\n",
      " [ 0  0  0  0  0  0  0 91]]\n",
      "              precision    recall  f1-score   support\n",
      "\n",
      "           0       0.98      0.94      0.96        94\n",
      "           1       0.69      0.71      0.70        63\n",
      "           2       0.80      0.73      0.77        78\n",
      "           3       0.76      0.83      0.80        78\n",
      "           4       0.92      0.95      0.93        74\n",
      "           5       0.94      0.94      0.94        65\n",
      "           6       1.00      0.99      0.99        79\n",
      "           7       0.99      1.00      0.99        91\n",
      "\n",
      "    accuracy                           0.89       622\n",
      "   macro avg       0.89      0.89      0.89       622\n",
      "weighted avg       0.89      0.89      0.89       622\n",
      "\n"
     ]
    }
   ],
   "source": [
    "from sklearn.tree import DecisionTreeClassifier\n",
    "\n",
    "dt = DecisionTreeClassifier()\n",
    "dt.fit(x_train, y_train)\n",
    "preddt = dt.predict(x_test)\n",
    "print(accuracy_score(y_test, preddt))\n",
    "print(confusion_matrix(y_test, preddt))\n",
    "print(classification_report(y_test, preddt))"
   ]
  },
  {
   "cell_type": "markdown",
   "metadata": {},
   "source": [
    "From DecisionTree Classifier, we're getting 89% accuracy score."
   ]
  },
  {
   "cell_type": "markdown",
   "metadata": {},
   "source": [
    "#### K-Nearest Neighbors:"
   ]
  },
  {
   "cell_type": "code",
   "execution_count": 155,
   "metadata": {},
   "outputs": [
    {
     "name": "stdout",
     "output_type": "stream",
     "text": [
      "0.860128617363344\n",
      "[[88  3  1  0  0  1  1  0]\n",
      " [ 7 37  4  3  7  4  1  0]\n",
      " [ 0  2 66  5  0  5  0  0]\n",
      " [ 0 11 11 45  5  6  0  0]\n",
      " [ 0  0  0  0 74  0  0  0]\n",
      " [ 1  0  0  0  0 64  0  0]\n",
      " [ 5  0  0  0  0  0 73  1]\n",
      " [ 1  0  0  0  0  0  2 88]]\n",
      "              precision    recall  f1-score   support\n",
      "\n",
      "           0       0.86      0.94      0.90        94\n",
      "           1       0.70      0.59      0.64        63\n",
      "           2       0.80      0.85      0.83        78\n",
      "           3       0.85      0.58      0.69        78\n",
      "           4       0.86      1.00      0.92        74\n",
      "           5       0.80      0.98      0.88        65\n",
      "           6       0.95      0.92      0.94        79\n",
      "           7       0.99      0.97      0.98        91\n",
      "\n",
      "    accuracy                           0.86       622\n",
      "   macro avg       0.85      0.85      0.85       622\n",
      "weighted avg       0.86      0.86      0.85       622\n",
      "\n"
     ]
    }
   ],
   "source": [
    "from sklearn.neighbors import KNeighborsClassifier\n",
    "\n",
    "knn = KNeighborsClassifier()\n",
    "knn.fit(x_train, y_train)\n",
    "predknn = knn.predict(x_test)\n",
    "\n",
    "print(accuracy_score(y_test, predknn))\n",
    "print(confusion_matrix(y_test, predknn))\n",
    "print(classification_report(y_test,predknn))"
   ]
  },
  {
   "cell_type": "markdown",
   "metadata": {},
   "source": [
    "From KNN, we're getting 86% accuracy score."
   ]
  },
  {
   "cell_type": "markdown",
   "metadata": {},
   "source": [
    "- As of now, we're getting highest accuracy score from RandomForest. Let's check for the cross validation score to decide the best model."
   ]
  },
  {
   "cell_type": "markdown",
   "metadata": {},
   "source": [
    "#### Selecting the best model to predict the fuel type:\n",
    "\n",
    "Checking for the cross validation score:"
   ]
  },
  {
   "cell_type": "code",
   "execution_count": 157,
   "metadata": {},
   "outputs": [
    {
     "name": "stdout",
     "output_type": "stream",
     "text": [
      "Cross validation score for LogisticRegression is  0.7543925687572097\n"
     ]
    }
   ],
   "source": [
    "#Checking cross validation score of LogisticRegression Classifier:\n",
    "\n",
    "from sklearn.model_selection import cross_val_score\n",
    "\n",
    "scr = cross_val_score(lr,x,y,cv=5)\n",
    "print('Cross validation score for LogisticRegression is ',scr.mean())"
   ]
  },
  {
   "cell_type": "code",
   "execution_count": 158,
   "metadata": {},
   "outputs": [
    {
     "name": "stdout",
     "output_type": "stream",
     "text": [
      "Cross validation score for RandomForest is 0.8413939651508713\n"
     ]
    }
   ],
   "source": [
    "# Checking cross validation score of RandomForest Classifier:\n",
    "\n",
    "scr = cross_val_score(RF,x,y,cv=5)\n",
    "print('Cross validation score for RandomForest is', scr.mean())"
   ]
  },
  {
   "cell_type": "code",
   "execution_count": 159,
   "metadata": {},
   "outputs": [
    {
     "name": "stdout",
     "output_type": "stream",
     "text": [
      "Cross validation score for DecisionTree is  0.7676340234351283\n"
     ]
    }
   ],
   "source": [
    "# Checking cross validation score of DecisionTree Classifier:\n",
    "scr = cross_val_score(dt,x,y,cv=5)\n",
    "print('Cross validation score for DecisionTree is ', scr.mean())"
   ]
  },
  {
   "cell_type": "code",
   "execution_count": 160,
   "metadata": {},
   "outputs": [
    {
     "name": "stdout",
     "output_type": "stream",
     "text": [
      "Cross validation score for K-Nearest Neighbors is 0.731248861635602\n"
     ]
    }
   ],
   "source": [
    "# Checking cross validation score of KNN:\n",
    "\n",
    "scr = cross_val_score(knn,x,y,cv=5)\n",
    "print('Cross validation score for K-Nearest Neighbors is', scr.mean())"
   ]
  },
  {
   "cell_type": "markdown",
   "metadata": {},
   "source": [
    "#### Best Model for predicting fuel type:\n",
    "\n",
    "The minimum diffrence between the accuracy score and cross validation score is (4.63), which is of LogisticRegression.\n",
    "\n",
    "So, the best model for the dataset is LogisticRegression."
   ]
  },
  {
   "cell_type": "markdown",
   "metadata": {},
   "source": [
    "#### Hyper parameter tuning:"
   ]
  },
  {
   "cell_type": "code",
   "execution_count": 161,
   "metadata": {},
   "outputs": [],
   "source": [
    "from sklearn.model_selection import GridSearchCV\n",
    "\n",
    "#Defining parameters\n",
    "\n",
    "params = {'random_state' : [5,7,9,11,13,15],\n",
    "          'max_iter':[1,10,50,100]}\n",
    "\n",
    "GCV=GridSearchCV(lr,params, verbose = 1, cv=3)"
   ]
  },
  {
   "cell_type": "code",
   "execution_count": 162,
   "metadata": {},
   "outputs": [
    {
     "name": "stdout",
     "output_type": "stream",
     "text": [
      "Fitting 3 folds for each of 24 candidates, totalling 72 fits\n"
     ]
    },
    {
     "data": {
      "text/plain": [
       "GridSearchCV(cv=3, estimator=LogisticRegression(),\n",
       "             param_grid={'max_iter': [1, 10, 50, 100],\n",
       "                         'random_state': [5, 7, 9, 11, 13, 15]},\n",
       "             verbose=1)"
      ]
     },
     "execution_count": 162,
     "metadata": {},
     "output_type": "execute_result"
    }
   ],
   "source": [
    "GCV.fit(x_train,y_train)"
   ]
  },
  {
   "cell_type": "code",
   "execution_count": 163,
   "metadata": {},
   "outputs": [
    {
     "data": {
      "text/plain": [
       "{'max_iter': 100, 'random_state': 5}"
      ]
     },
     "execution_count": 163,
     "metadata": {},
     "output_type": "execute_result"
    }
   ],
   "source": [
    "# Finding the best parameter found by GridSearchCV\n",
    "\n",
    "GCV.best_params_"
   ]
  },
  {
   "cell_type": "code",
   "execution_count": 166,
   "metadata": {},
   "outputs": [
    {
     "name": "stdout",
     "output_type": "stream",
     "text": [
      "80.06430868167203\n",
      "              precision    recall  f1-score   support\n",
      "\n",
      "           0       0.82      0.87      0.85        94\n",
      "           1       0.67      0.60      0.63        63\n",
      "           2       0.71      0.54      0.61        78\n",
      "           3       0.71      0.68      0.69        78\n",
      "           4       0.83      0.91      0.86        74\n",
      "           5       0.66      0.83      0.73        65\n",
      "           6       0.94      0.94      0.94        79\n",
      "           7       0.99      0.97      0.98        91\n",
      "\n",
      "    accuracy                           0.80       622\n",
      "   macro avg       0.79      0.79      0.79       622\n",
      "weighted avg       0.80      0.80      0.80       622\n",
      "\n"
     ]
    }
   ],
   "source": [
    "model1 = LogisticRegression(max_iter = 100, random_state = 5)\n",
    "model1.fit(x_train, y_train)\n",
    "pred1 = model1.predict(x_test)\n",
    "\n",
    "print(accuracy_score(y_test,pred1)*100)\n",
    "print(classification_report(y_test,pred1))"
   ]
  },
  {
   "cell_type": "markdown",
   "metadata": {},
   "source": [
    "After hyper parameter tuning we're getting 80% accuracy score."
   ]
  },
  {
   "cell_type": "markdown",
   "metadata": {},
   "source": [
    "#### Saving the model for the prediction of fuel type."
   ]
  },
  {
   "cell_type": "code",
   "execution_count": 168,
   "metadata": {},
   "outputs": [],
   "source": [
    "import pickle\n",
    "filename = 'global_power_plant_fueltype.pkl'\n",
    "pickle.dump(model1, open(filename, 'wb'))"
   ]
  },
  {
   "cell_type": "markdown",
   "metadata": {},
   "source": [
    "#### Conclusion:"
   ]
  },
  {
   "cell_type": "code",
   "execution_count": 169,
   "metadata": {},
   "outputs": [
    {
     "data": {
      "text/html": [
       "<div>\n",
       "<style scoped>\n",
       "    .dataframe tbody tr th:only-of-type {\n",
       "        vertical-align: middle;\n",
       "    }\n",
       "\n",
       "    .dataframe tbody tr th {\n",
       "        vertical-align: top;\n",
       "    }\n",
       "\n",
       "    .dataframe thead th {\n",
       "        text-align: right;\n",
       "    }\n",
       "</style>\n",
       "<table border=\"1\" class=\"dataframe\">\n",
       "  <thead>\n",
       "    <tr style=\"text-align: right;\">\n",
       "      <th></th>\n",
       "      <th>Original</th>\n",
       "      <th>Predicted</th>\n",
       "    </tr>\n",
       "  </thead>\n",
       "  <tbody>\n",
       "    <tr>\n",
       "      <th>0</th>\n",
       "      <td>7</td>\n",
       "      <td>7</td>\n",
       "    </tr>\n",
       "    <tr>\n",
       "      <th>1</th>\n",
       "      <td>6</td>\n",
       "      <td>6</td>\n",
       "    </tr>\n",
       "    <tr>\n",
       "      <th>2</th>\n",
       "      <td>6</td>\n",
       "      <td>6</td>\n",
       "    </tr>\n",
       "    <tr>\n",
       "      <th>3</th>\n",
       "      <td>7</td>\n",
       "      <td>7</td>\n",
       "    </tr>\n",
       "    <tr>\n",
       "      <th>4</th>\n",
       "      <td>7</td>\n",
       "      <td>7</td>\n",
       "    </tr>\n",
       "    <tr>\n",
       "      <th>...</th>\n",
       "      <td>...</td>\n",
       "      <td>...</td>\n",
       "    </tr>\n",
       "    <tr>\n",
       "      <th>617</th>\n",
       "      <td>6</td>\n",
       "      <td>6</td>\n",
       "    </tr>\n",
       "    <tr>\n",
       "      <th>618</th>\n",
       "      <td>3</td>\n",
       "      <td>3</td>\n",
       "    </tr>\n",
       "    <tr>\n",
       "      <th>619</th>\n",
       "      <td>2</td>\n",
       "      <td>3</td>\n",
       "    </tr>\n",
       "    <tr>\n",
       "      <th>620</th>\n",
       "      <td>4</td>\n",
       "      <td>4</td>\n",
       "    </tr>\n",
       "    <tr>\n",
       "      <th>621</th>\n",
       "      <td>7</td>\n",
       "      <td>7</td>\n",
       "    </tr>\n",
       "  </tbody>\n",
       "</table>\n",
       "<p>622 rows × 2 columns</p>\n",
       "</div>"
      ],
      "text/plain": [
       "     Original  Predicted\n",
       "0           7          7\n",
       "1           6          6\n",
       "2           6          6\n",
       "3           7          7\n",
       "4           7          7\n",
       "..        ...        ...\n",
       "617         6          6\n",
       "618         3          3\n",
       "619         2          3\n",
       "620         4          4\n",
       "621         7          7\n",
       "\n",
       "[622 rows x 2 columns]"
      ]
     },
     "execution_count": 169,
     "metadata": {},
     "output_type": "execute_result"
    }
   ],
   "source": [
    "a = np.array(y_test)\n",
    "predicted = np.array(model1.predict(x_test))\n",
    "df_conclusion = pd.DataFrame({\"Original\":a, \"Predicted\":predicted}, index=range(len(a)))\n",
    "\n",
    "df_conclusion"
   ]
  },
  {
   "cell_type": "markdown",
   "metadata": {},
   "source": [
    "#### Now we'll predict the capacity_mw"
   ]
  },
  {
   "cell_type": "code",
   "execution_count": 171,
   "metadata": {},
   "outputs": [
    {
     "data": {
      "text/plain": [
       "name                   0.000000\n",
       "gppd_idnr              0.000000\n",
       "latitude              -0.161811\n",
       "longitude              1.150944\n",
       "primary_fuel           0.471141\n",
       "commissioning_year    -1.650230\n",
       "owner                 -1.375607\n",
       "source                 1.829145\n",
       "generation_gwh_2013    5.241491\n",
       "generation_gwh_2014    5.041961\n",
       "generation_gwh_2015    5.367370\n",
       "generation_gwh_2016    5.071758\n",
       "generation_gwh_2017    5.111938\n",
       "dtype: float64"
      ]
     },
     "execution_count": 171,
     "metadata": {},
     "output_type": "execute_result"
    }
   ],
   "source": [
    "#checking for the skewness in the x1.\n",
    "\n",
    "x1.skew()"
   ]
  },
  {
   "cell_type": "code",
   "execution_count": 172,
   "metadata": {},
   "outputs": [
    {
     "data": {
      "text/plain": [
       "name                  -0.288181\n",
       "gppd_idnr             -0.288181\n",
       "latitude              -0.077161\n",
       "longitude              0.002083\n",
       "primary_fuel          -0.047088\n",
       "commissioning_year    -0.426588\n",
       "owner                 -1.026460\n",
       "source                -0.214850\n",
       "generation_gwh_2013    0.180340\n",
       "generation_gwh_2014    0.124543\n",
       "generation_gwh_2015    0.070937\n",
       "generation_gwh_2016    0.038668\n",
       "generation_gwh_2017    0.013392\n",
       "dtype: float64"
      ]
     },
     "execution_count": 172,
     "metadata": {},
     "output_type": "execute_result"
    }
   ],
   "source": [
    "# Removing the skewness using power_transform technique\n",
    "\n",
    "from sklearn.preprocessing import power_transform\n",
    "\n",
    "df_new1 = power_transform(x1)\n",
    "\n",
    "df_new1 = pd.DataFrame(df_new1, columns=x1.columns)\n",
    "\n",
    "df_new1.skew()\n"
   ]
  },
  {
   "cell_type": "markdown",
   "metadata": {},
   "source": [
    "#### Standard Scaler:"
   ]
  },
  {
   "cell_type": "code",
   "execution_count": 173,
   "metadata": {},
   "outputs": [
    {
     "data": {
      "text/plain": [
       "array([[-1.73014431e+00,  7.80186355e-01,  1.14329794e+00, ...,\n",
       "         0.00000000e+00, -1.58055100e-16, -1.55659091e-16],\n",
       "       [-1.72632922e+00,  2.53703631e-01,  5.81755687e-01, ...,\n",
       "         0.00000000e+00, -1.58055100e-16, -1.55659091e-16],\n",
       "       [-1.72251413e+00,  1.52794443e+00,  1.11421333e-01, ...,\n",
       "         0.00000000e+00, -1.58055100e-16, -1.55659091e-16],\n",
       "       ...,\n",
       "       [ 1.72251413e+00,  1.67291793e+00, -9.77618351e-01, ...,\n",
       "         0.00000000e+00, -1.58055100e-16, -1.55659091e-16],\n",
       "       [ 1.72632922e+00,  3.30005475e-01,  5.13353874e-01, ...,\n",
       "         0.00000000e+00, -1.58055100e-16, -1.55659091e-16],\n",
       "       [ 1.73014431e+00,  1.61569155e+00, -1.85525815e+00, ...,\n",
       "         0.00000000e+00, -1.58055100e-16, -1.55659091e-16]])"
      ]
     },
     "execution_count": 173,
     "metadata": {},
     "output_type": "execute_result"
    }
   ],
   "source": [
    "from sklearn.preprocessing import StandardScaler\n",
    "scaler = StandardScaler()\n",
    "x1 = scaler.fit_transform(x1)\n",
    "x1"
   ]
  },
  {
   "cell_type": "markdown",
   "metadata": {},
   "source": [
    "#### Data Preproccessing for the prediction of capacity_mw:"
   ]
  },
  {
   "cell_type": "code",
   "execution_count": 174,
   "metadata": {},
   "outputs": [],
   "source": [
    "from sklearn.model_selection import train_test_split\n",
    "x1_train, x1_test, y1_train, y1_test = train_test_split(x1, y1, test_size=0.2, random_state=42)"
   ]
  },
  {
   "cell_type": "markdown",
   "metadata": {},
   "source": [
    "#### Model Training for the prediction of capacity_mw:"
   ]
  },
  {
   "cell_type": "markdown",
   "metadata": {},
   "source": [
    "###### 1. LinerRegression:"
   ]
  },
  {
   "cell_type": "code",
   "execution_count": 175,
   "metadata": {},
   "outputs": [
    {
     "name": "stdout",
     "output_type": "stream",
     "text": [
      "Linear coefficients : [ 33.88821157 -91.01060943  12.46957467 -16.44844104 -83.58772215\n",
      "  84.70257561  87.15521008 -89.8879628   45.11404331  -7.11102561\n",
      " -13.12314895  56.79424468 353.2217114 ]\n",
      "Intercept : 325.87843174104995\n"
     ]
    }
   ],
   "source": [
    "from sklearn.linear_model import LinearRegression\n",
    "LR = LinearRegression( fit_intercept = True)\n",
    "\n",
    "LR.fit(x1_train, y1_train)\n",
    "print(f\"Linear coefficients : {LR.coef_}\")\n",
    "print(f\"Intercept : {LR.intercept_}\")"
   ]
  },
  {
   "cell_type": "code",
   "execution_count": 176,
   "metadata": {},
   "outputs": [
    {
     "data": {
      "text/plain": [
       "array([ 4.33903218e+02, -1.41366319e+02,  1.51218632e+02,  9.99654594e+01,\n",
       "        4.43421189e+02,  2.42204359e+02, -9.39999092e+01,  2.06551734e+02,\n",
       "        4.20561553e+02,  4.51683671e+02,  2.31002967e+02,  2.93478415e+02,\n",
       "        5.27149272e+01,  1.53468316e+02, -1.35075630e+01,  1.29108567e+02,\n",
       "       -5.85579230e+01,  1.06881418e+02,  1.49234706e+03,  1.92127674e+02,\n",
       "        1.22228095e+03,  2.78784361e+02, -8.12388857e+01,  3.07371204e+02,\n",
       "        1.96676873e+02,  2.47594134e+01, -5.79941083e+01, -4.22986547e+01,\n",
       "        4.30510404e+03, -7.92961799e+01,  6.29314337e+01,  3.48985968e+02,\n",
       "        5.93199157e+02, -7.98769674e+01,  1.26667454e+02, -1.92703564e+01,\n",
       "        2.26449632e+02,  3.91474327e+02,  2.32404963e+02,  1.33094728e+02,\n",
       "        1.78573080e+02,  2.26839945e+02,  3.42992870e+02,  2.25929707e+02,\n",
       "        8.72362436e+01,  2.43019368e+02,  1.43082406e+02,  1.40758470e+02,\n",
       "        5.18606081e+02, -5.99821386e+01,  8.26599397e+01,  3.43249004e+03,\n",
       "        6.82236163e+01,  1.76901214e+02, -8.37766656e+01,  1.32422918e+02,\n",
       "        4.16626131e+02,  2.14865450e+02,  6.54363712e+02, -1.71660699e+02,\n",
       "        1.62688189e+02,  1.56769941e+02,  2.23514465e+02,  4.87727920e+02,\n",
       "        7.94926351e+01,  2.08680159e+02,  3.31302370e+02,  1.99499661e+02,\n",
       "        2.01576661e+02,  2.99500596e+02,  2.90208678e+02,  9.22997714e+01,\n",
       "        6.37897932e+01,  8.67626529e+01,  1.46472686e+02,  6.68906902e+02,\n",
       "        2.74331710e+02,  1.34269319e+03, -1.02714862e+02,  2.63478411e+02,\n",
       "        2.94630754e+02, -2.23584206e+01,  2.06703345e+02,  4.95541173e+02,\n",
       "        3.97881712e+02,  2.60927825e+02,  2.26861596e+02,  2.14775773e+02,\n",
       "       -4.37454069e+00, -7.62532882e+01,  5.28113561e+01,  5.41814952e+02,\n",
       "        3.07882965e+02, -9.76269767e+01,  1.05324733e+02,  4.80384701e+02,\n",
       "        1.60312015e+02,  9.32300366e+02,  2.52381315e+02,  2.63643490e+02,\n",
       "        8.44833079e+02,  1.06284005e+02,  5.63237412e+02,  4.79374903e+02,\n",
       "        1.11449365e+02,  7.78313129e+01,  2.33368845e+02, -5.56461401e+01,\n",
       "        3.42526282e+02, -1.47169868e+02,  3.37867258e+02,  3.39347283e+02,\n",
       "        2.05437470e+03,  1.05228378e+03,  2.98405453e+01,  4.88219815e+02,\n",
       "        7.52184082e+02,  4.55007940e+02,  4.78729026e+02,  1.56086060e+02,\n",
       "        8.32183605e+01, -7.49432316e+01,  3.69120720e+02, -3.17993197e+02,\n",
       "        1.62296857e+02,  8.90208386e+02,  3.43196443e+02,  1.23662132e+02,\n",
       "        6.99340726e+01, -9.67262711e+01,  3.48494569e+02,  2.48501955e+03,\n",
       "        1.92402843e+02,  2.57597336e+02,  1.25106826e+02,  1.43386892e+02,\n",
       "        1.55908924e+01,  6.30618312e+01,  2.24995301e+02,  1.86799306e+02,\n",
       "       -7.56587796e+01,  1.46419506e+03,  1.28000335e+03,  1.72164127e+02,\n",
       "       -7.00628394e+01, -7.66748576e+01,  3.00871941e+02,  4.11713360e+02,\n",
       "        2.79423684e+02, -1.56322535e+02,  6.14112230e+02, -1.38704400e+02,\n",
       "        1.59469673e+02,  3.35192243e+01, -7.47064032e+01,  4.94715680e+02,\n",
       "        1.79912756e+02,  3.03719998e+02, -5.52586901e+01,  1.03042297e+03,\n",
       "        1.84700628e+02,  1.48201604e+02,  5.23964924e+02, -1.90460701e+00,\n",
       "        1.43891233e+02,  2.31833963e+01,  4.22069360e+02,  3.11090500e+02,\n",
       "        4.72796289e+02,  1.76844614e+02,  4.24797462e+02,  1.58858585e+02,\n",
       "        5.35336007e+02, -1.04631558e+02,  6.12094262e+02,  1.95924937e+03,\n",
       "        2.64726695e+02,  6.12217634e+02,  1.22929093e+03, -8.45028650e+01,\n",
       "        5.09947176e+02, -1.02966329e+02])"
      ]
     },
     "execution_count": 176,
     "metadata": {},
     "output_type": "execute_result"
    }
   ],
   "source": [
    "# Predicting the new result\n",
    "\n",
    "y1_pred = LR.predict(x1_test)\n",
    "y1_pred"
   ]
  },
  {
   "cell_type": "markdown",
   "metadata": {},
   "source": [
    "#### Ridge Regression:"
   ]
  },
  {
   "cell_type": "code",
   "execution_count": 177,
   "metadata": {},
   "outputs": [
    {
     "name": "stdout",
     "output_type": "stream",
     "text": [
      "Ridge Coefficients : [ 33.91157393 -91.05988638  12.44193639 -16.38624971 -83.5335845\n",
      "  84.65457315  87.08155709 -89.80659373  44.20525847  -5.97408409\n",
      " -13.06101526  59.09827854 350.48808454]\n",
      "Intercept : 325.88596774619657\n"
     ]
    }
   ],
   "source": [
    "# Importing the library\n",
    "from sklearn.linear_model import Ridge\n",
    "\n",
    "rid = Ridge(alpha=0.5)\n",
    "rid.fit(x1_train,y1_train)\n",
    "\n",
    "print(f\"Ridge Coefficients : {rid.coef_}\")\n",
    "print(f\"Intercept : {rid.intercept_}\")"
   ]
  },
  {
   "cell_type": "code",
   "execution_count": 178,
   "metadata": {},
   "outputs": [
    {
     "data": {
      "text/plain": [
       "array([ 4.33917541e+02, -1.41174042e+02,  1.51308548e+02,  1.00165773e+02,\n",
       "        4.43388647e+02,  2.42242476e+02, -9.38065611e+01,  2.06454696e+02,\n",
       "        4.20148279e+02,  4.51654181e+02,  2.31054849e+02,  2.93536758e+02,\n",
       "        5.28705397e+01,  1.53536808e+02, -1.34800307e+01,  1.29072220e+02,\n",
       "       -5.84914249e+01,  1.07001724e+02,  1.49370975e+03,  1.92227094e+02,\n",
       "        1.22205239e+03,  2.78740323e+02, -8.11276934e+01,  3.07343747e+02,\n",
       "        1.96755001e+02,  2.48162172e+01, -5.76561494e+01, -4.21782957e+01,\n",
       "        4.30540678e+03, -7.92897306e+01,  6.31316315e+01,  3.47883642e+02,\n",
       "        5.92472798e+02, -7.96515870e+01,  1.26752431e+02, -1.92150306e+01,\n",
       "        2.26549040e+02,  3.91302963e+02,  2.32441098e+02,  1.33254448e+02,\n",
       "        1.78608433e+02,  2.26869816e+02,  3.43205968e+02,  2.26060350e+02,\n",
       "        8.72959922e+01,  2.43285247e+02,  1.43205767e+02,  1.40824453e+02,\n",
       "        5.16376833e+02, -5.98605476e+01,  8.27330244e+01,  3.43098705e+03,\n",
       "        6.83246210e+01,  1.77218706e+02, -8.36440487e+01,  1.32503826e+02,\n",
       "        4.16488447e+02,  2.14847788e+02,  6.53926551e+02, -1.71444046e+02,\n",
       "        1.62803507e+02,  1.56953315e+02,  2.23607471e+02,  4.87206001e+02,\n",
       "        7.94536809e+01,  2.08669004e+02,  3.31307466e+02,  1.99598840e+02,\n",
       "        2.01538694e+02,  2.99516869e+02,  2.90431858e+02,  9.24786431e+01,\n",
       "        6.41343528e+01,  8.69690868e+01,  1.46563374e+02,  6.68997916e+02,\n",
       "        2.74519140e+02,  1.34106337e+03, -1.02466476e+02,  2.63684474e+02,\n",
       "        2.94648335e+02, -2.23400727e+01,  2.06712022e+02,  4.95486394e+02,\n",
       "        3.97848333e+02,  2.61020308e+02,  2.26859672e+02,  2.14842229e+02,\n",
       "       -4.20971439e+00, -7.60524433e+01,  5.29296129e+01,  5.41681860e+02,\n",
       "        3.07879279e+02, -9.74982579e+01,  1.05447811e+02,  4.80374365e+02,\n",
       "        1.60282733e+02,  9.34019950e+02,  2.52328367e+02,  2.63917842e+02,\n",
       "        8.46151444e+02,  1.06413432e+02,  5.63446653e+02,  4.79489738e+02,\n",
       "        1.11544767e+02,  7.78226684e+01,  2.33439672e+02, -5.54005519e+01,\n",
       "        3.43254672e+02, -1.46875177e+02,  3.38034491e+02,  3.39251970e+02,\n",
       "        2.05419267e+03,  1.05097399e+03,  3.00379120e+01,  4.88122659e+02,\n",
       "        7.52718238e+02,  4.55128161e+02,  4.78651199e+02,  1.56093359e+02,\n",
       "        8.32898069e+01, -7.48792900e+01,  3.68463402e+02, -3.17624390e+02,\n",
       "        1.62380524e+02,  8.88788860e+02,  3.43420056e+02,  1.23750501e+02,\n",
       "        7.00767598e+01, -9.66612434e+01,  3.48522904e+02,  2.48440345e+03,\n",
       "        1.92239305e+02,  2.57446445e+02,  1.25176785e+02,  1.43577241e+02,\n",
       "        1.57468662e+01,  6.31454506e+01,  2.25102370e+02,  1.86916142e+02,\n",
       "       -7.53430175e+01,  1.46447979e+03,  1.27917060e+03,  1.72174603e+02,\n",
       "       -6.98892596e+01, -7.64640360e+01,  3.01246719e+02,  4.13253797e+02,\n",
       "        2.77269843e+02, -1.55990210e+02,  6.15227119e+02, -1.38597274e+02,\n",
       "        1.59411546e+02,  3.34883395e+01, -7.44740408e+01,  4.94681260e+02,\n",
       "        1.80020550e+02,  3.03671382e+02, -5.50027525e+01,  1.02844844e+03,\n",
       "        1.84623851e+02,  1.48292746e+02,  5.23857503e+02, -1.72823837e+00,\n",
       "        1.43998010e+02,  2.33478408e+01,  4.22011679e+02,  3.11224564e+02,\n",
       "        4.72810804e+02,  1.77016318e+02,  4.25017379e+02,  1.58795471e+02,\n",
       "        5.35343964e+02, -1.04372491e+02,  6.11049755e+02,  1.96100701e+03,\n",
       "        2.64687609e+02,  6.11514648e+02,  1.23113251e+03, -8.40048888e+01,\n",
       "        5.09988972e+02, -1.02769898e+02])"
      ]
     },
     "execution_count": 178,
     "metadata": {},
     "output_type": "execute_result"
    }
   ],
   "source": [
    "# Predicting the new result\n",
    "\n",
    "rid_pred = rid.predict(x1_test)\n",
    "\n",
    "rid_pred"
   ]
  },
  {
   "cell_type": "markdown",
   "metadata": {},
   "source": [
    "#### RandomForestRegressor:"
   ]
  },
  {
   "cell_type": "code",
   "execution_count": 179,
   "metadata": {},
   "outputs": [
    {
     "data": {
      "text/plain": [
       "RandomForestRegressor(max_depth=2, random_state=0)"
      ]
     },
     "execution_count": 179,
     "metadata": {},
     "output_type": "execute_result"
    }
   ],
   "source": [
    "from sklearn.ensemble import RandomForestRegressor\n",
    "RF = RandomForestRegressor(max_depth=2, random_state=0)\n",
    "\n",
    "RF.fit(x1_train,y1_train)"
   ]
  },
  {
   "cell_type": "code",
   "execution_count": 180,
   "metadata": {},
   "outputs": [
    {
     "data": {
      "text/plain": [
       "array([ 114.55630741,  102.04701895,  162.64393398,  162.64393398,\n",
       "        114.55630741,  102.04701895,  162.64393398,  102.04701895,\n",
       "        206.50870434,  206.50870434,  102.04701895,  102.04701895,\n",
       "        162.64393398,  102.04701895,  102.04701895,  102.04701895,\n",
       "        102.04701895,  162.64393398, 1318.82957287,  102.04701895,\n",
       "       1299.34536523,  162.64393398,  102.04701895,  195.03211969,\n",
       "        102.04701895,  102.04701895,  162.64393398,  102.04701895,\n",
       "       3289.55175568,  102.04701895,  162.64393398,  206.50870434,\n",
       "        363.82192974,  162.64393398,  102.04701895,  162.64393398,\n",
       "        102.04701895,  206.50870434,  102.04701895,  102.04701895,\n",
       "        102.04701895,  102.04701895,  206.50870434,  206.50870434,\n",
       "        102.04701895,  162.64393398,  162.64393398,  102.04701895,\n",
       "        158.42107777,  102.04701895,  102.04701895, 3309.65849527,\n",
       "        102.04701895,  206.50870434,  102.04701895,  102.04701895,\n",
       "        206.50870434,  102.04701895,  704.5508784 ,  102.04701895,\n",
       "        102.04701895,  162.64393398,  102.04701895,  206.50870434,\n",
       "        102.04701895,  102.04701895,  114.55630741,  102.04701895,\n",
       "        102.04701895,  206.50870434,  206.50870434,  162.64393398,\n",
       "        162.64393398,  114.55630741,  102.04701895,  468.97755404,\n",
       "        206.50870434, 1299.34536523,  162.64393398,  206.50870434,\n",
       "        195.03211969,  102.04701895,  102.04701895,  370.75095442,\n",
       "        185.71250193,  195.03211969,  173.8270316 ,  102.04701895,\n",
       "        102.04701895,  102.04701895,  162.64393398,  131.61535769,\n",
       "        206.50870434,  102.04701895,  162.64393398,  114.55630741,\n",
       "        102.04701895, 1076.2809842 ,  262.59676963,  269.17845279,\n",
       "        960.08177307,  162.64393398,  997.14594047,  268.49543273,\n",
       "        162.64393398,  102.04701895,  102.04701895,  162.64393398,\n",
       "        206.50870434,  162.64393398,  162.64393398,  185.71250193,\n",
       "       1920.55969922, 1299.34536523,  162.64393398,  114.55630741,\n",
       "       1203.83978625,  114.55630741,  114.55630741,  102.04701895,\n",
       "        102.04701895,  102.04701895,  206.50870434,  102.04701895,\n",
       "        102.04701895, 1299.34536523,  162.64393398,  102.04701895,\n",
       "        102.04701895,  102.04701895,  195.03211969, 3150.40207169,\n",
       "        102.04701895,  102.04701895,  102.04701895,  162.64393398,\n",
       "        162.64393398,  162.64393398,  102.04701895,  162.64393398,\n",
       "        102.04701895, 1318.82957287, 1299.34536523,  102.04701895,\n",
       "        102.04701895,  102.04701895,  206.50870434,  417.45440383,\n",
       "        114.55630741,  102.04701895,  402.23330947,  102.04701895,\n",
       "        102.04701895,  162.64393398,  102.04701895,  114.55630741,\n",
       "        102.04701895,  206.50870434,  162.64393398, 1299.34536523,\n",
       "        102.04701895,  162.64393398,  114.55630741,  102.04701895,\n",
       "        102.04701895,  102.04701895,  114.55630741,  206.50870434,\n",
       "        195.03211969,  179.70298427,  662.28157402,  102.04701895,\n",
       "        206.50870434,  162.64393398,  206.50870434, 1868.11943033,\n",
       "        102.04701895,  430.21221301, 1299.34536523,  162.64393398,\n",
       "        997.14594047,  145.91178931])"
      ]
     },
     "execution_count": 180,
     "metadata": {},
     "output_type": "execute_result"
    }
   ],
   "source": [
    "# Predicting the new result\n",
    "\n",
    "rf_pred = RF.predict(x1_test) \n",
    "rf_pred"
   ]
  },
  {
   "cell_type": "markdown",
   "metadata": {},
   "source": [
    "#### KNeighborsRegressor:"
   ]
  },
  {
   "cell_type": "code",
   "execution_count": 181,
   "metadata": {},
   "outputs": [
    {
     "data": {
      "text/plain": [
       "KNeighborsRegressor(n_neighbors=2)"
      ]
     },
     "execution_count": 181,
     "metadata": {},
     "output_type": "execute_result"
    }
   ],
   "source": [
    "from sklearn.neighbors import KNeighborsRegressor\n",
    "\n",
    "KNN = KNeighborsRegressor(n_neighbors=2)\n",
    "KNN.fit(x1_train, y1_train)"
   ]
  },
  {
   "cell_type": "code",
   "execution_count": 182,
   "metadata": {},
   "outputs": [
    {
     "data": {
      "text/plain": [
       "array([1.187500e+01, 1.550000e+00, 2.385000e+02, 5.278000e+02,\n",
       "       5.300000e+00, 1.360000e+01, 2.055000e+02, 8.125000e+01,\n",
       "       2.915000e+02, 5.360100e+02, 1.027500e+02, 1.000000e+02,\n",
       "       1.455000e+02, 1.890000e+01, 1.320000e+01, 1.792500e+01,\n",
       "       7.725000e+00, 3.015000e+02, 1.650000e+03, 2.000000e+01,\n",
       "       1.045000e+03, 3.775000e+02, 3.000000e+00, 3.970000e+02,\n",
       "       1.402500e+02, 1.170000e+01, 4.025000e+02, 7.000000e+01,\n",
       "       3.140000e+03, 5.000000e+01, 4.500000e+01, 9.450000e+01,\n",
       "       6.375000e+02, 1.248250e+02, 1.550000e+01, 8.110000e+01,\n",
       "       2.700000e+01, 3.300000e+02, 1.825000e+01, 3.250000e+01,\n",
       "       4.730000e+01, 3.525000e+01, 1.950000e+02, 3.000000e+01,\n",
       "       5.425000e+00, 2.942850e+02, 2.650000e+02, 3.064000e+02,\n",
       "       5.342850e+02, 9.850000e+00, 7.950000e+00, 2.790000e+03,\n",
       "       6.450000e+00, 4.650000e+01, 8.125000e+00, 1.940000e+01,\n",
       "       2.460000e+02, 4.330000e+01, 5.400000e+02, 2.100000e+00,\n",
       "       4.800000e+01, 8.340000e+01, 2.325000e+01, 1.755000e+02,\n",
       "       4.000000e+00, 1.700000e+01, 3.420000e+02, 2.500000e+01,\n",
       "       2.325000e+01, 1.800000e+02, 4.090000e+02, 5.500000e+01,\n",
       "       5.850000e+01, 4.900000e+00, 5.900000e+01, 5.500000e+02,\n",
       "       3.122855e+02, 1.200000e+03, 1.280000e+02, 8.500000e+01,\n",
       "       3.970000e+02, 2.560000e+01, 1.270000e+02, 1.125000e+01,\n",
       "       2.460000e+02, 1.044400e+02, 5.551000e+02, 1.025000e+01,\n",
       "       3.630000e+01, 2.650000e+01, 1.920000e+02, 5.400000e+02,\n",
       "       4.226000e+02, 1.000000e+01, 5.500000e+01, 8.250000e+00,\n",
       "       9.375000e+00, 1.105000e+03, 2.850000e+02, 9.800000e+02,\n",
       "       1.700000e+03, 1.250000e+02, 9.090000e+02, 3.380000e+02,\n",
       "       2.070000e+02, 3.645000e+01, 1.610000e+01, 1.280000e+02,\n",
       "       3.215000e+02, 2.055000e+02, 3.000000e+02, 9.632850e+02,\n",
       "       2.775000e+03, 5.500000e+02, 7.280000e+01, 2.420000e+02,\n",
       "       5.050000e+02, 2.065000e+02, 9.000000e+00, 5.375000e+01,\n",
       "       7.950000e+00, 1.350000e+01, 2.915000e+02, 1.550000e+00,\n",
       "       3.000000e+01, 8.300000e+02, 1.836000e+02, 2.150000e+01,\n",
       "       1.940000e+01, 1.605000e+01, 2.610000e+02, 2.460000e+03,\n",
       "       2.700000e+01, 7.725000e+01, 1.680000e+02, 9.750000e+01,\n",
       "       4.237500e+01, 1.191500e+02, 1.600000e+01, 1.044400e+02,\n",
       "       8.000000e+00, 1.170000e+03, 2.030000e+03, 1.270000e+02,\n",
       "       3.600000e+01, 3.750000e+01, 1.145000e+02, 1.450000e+01,\n",
       "       1.058500e+02, 1.510000e+01, 8.100000e+02, 5.000000e+00,\n",
       "       2.065000e+01, 1.280000e+02, 3.500000e+00, 1.450000e+01,\n",
       "       4.800000e+01, 1.180000e+02, 9.960000e+01, 8.250000e+02,\n",
       "       1.118500e+02, 7.750000e+01, 1.650000e+01, 9.000000e+00,\n",
       "       2.195000e+01, 1.275000e+01, 3.420000e+02, 1.680000e+02,\n",
       "       4.226000e+02, 9.000000e+01, 5.225000e+02, 2.632500e+01,\n",
       "       4.750000e+02, 1.280000e+02, 4.050000e+02, 1.860000e+03,\n",
       "       7.520000e+01, 5.000000e+02, 1.425000e+03, 1.973500e+02,\n",
       "       8.140000e+02, 6.400000e+01])"
      ]
     },
     "execution_count": 182,
     "metadata": {},
     "output_type": "execute_result"
    }
   ],
   "source": [
    "# Predicting the new result\n",
    "\n",
    "knn_pred = KNN.predict(x1_test)\n",
    "knn_pred"
   ]
  },
  {
   "cell_type": "markdown",
   "metadata": {},
   "source": [
    "#### Root Mean Squared Error:"
   ]
  },
  {
   "cell_type": "code",
   "execution_count": 183,
   "metadata": {},
   "outputs": [
    {
     "name": "stdout",
     "output_type": "stream",
     "text": [
      "Root Mean Squared Error for LinearRegression is : 235.11354209401927\n",
      "Root Mean Squared Error for Ridge Regression is : 235.0121302335793\n",
      "Root Mean Squared Error for RandomForestRegressor is : 224.95847876195336\n",
      "Root Mean Squared Error for KNeighborsRegressor is : 245.09182048396522\n"
     ]
    }
   ],
   "source": [
    "from sklearn import metrics\n",
    "rmse_LR = np.sqrt(metrics.mean_squared_error(y1_test, y1_pred))\n",
    "rmse_Ridge = np.sqrt(metrics.mean_squared_error(y1_test, rid_pred))\n",
    "rmse_RF = np.sqrt(metrics.mean_squared_error(y1_test, rf_pred))\n",
    "rmse_KNN = np.sqrt(metrics.mean_squared_error(y1_test, knn_pred))\n",
    "print('Root Mean Squared Error for LinearRegression is :', rmse_LR)\n",
    "print('Root Mean Squared Error for Ridge Regression is :', rmse_Ridge)\n",
    "print('Root Mean Squared Error for RandomForestRegressor is :', rmse_RF)\n",
    "print('Root Mean Squared Error for KNeighborsRegressor is :', rmse_KNN)"
   ]
  },
  {
   "cell_type": "markdown",
   "metadata": {},
   "source": [
    "- Root Mean Squared Error is least for the RandomForestRegressor so, it is the best fit model"
   ]
  },
  {
   "cell_type": "markdown",
   "metadata": {},
   "source": [
    "#### R-Squred:"
   ]
  },
  {
   "cell_type": "code",
   "execution_count": 184,
   "metadata": {},
   "outputs": [
    {
     "name": "stdout",
     "output_type": "stream",
     "text": [
      "R2 Score for LinearRegression is : 0.8212782907516151\n",
      "R2 Score for Ridge_Regression is : 0.8214324340820334\n",
      "R2 Score for RandomForestRegressor is : 0.8363836298553262\n",
      "R2 score for KNeighborsRegressor is : 0.8057863922645492\n"
     ]
    }
   ],
   "source": [
    "from sklearn.metrics import r2_score\n",
    "print('R2 Score for LinearRegression is :', r2_score(y1_test, y1_pred))\n",
    "print('R2 Score for Ridge_Regression is :', r2_score(y1_test, rid_pred))\n",
    "print('R2 Score for RandomForestRegressor is :', r2_score(y1_test, rf_pred))\n",
    "print('R2 score for KNeighborsRegressor is :', r2_score(y1_test, knn_pred))"
   ]
  },
  {
   "cell_type": "markdown",
   "metadata": {},
   "source": [
    "- R2 Score closest to 1.0 is considered as best. From the above observation we can that RandomForestRegressor have the closest value i.e. 0.83. So, this is the best model.\n",
    "\n",
    "Also RandomForestRegressor has the lowest Root Mean Squared error (RMSE). So, from both the observations we can say that the best fit model id RandomForestRegressor."
   ]
  },
  {
   "cell_type": "markdown",
   "metadata": {},
   "source": [
    "#### Model Saving for prediction of capacity_mw:"
   ]
  },
  {
   "cell_type": "code",
   "execution_count": 185,
   "metadata": {},
   "outputs": [],
   "source": [
    "import pickle\n",
    "filename = 'global_power_plant_capacity_mw.pkl'\n",
    "pickle.dump(RF, open(filename,'wb'))"
   ]
  },
  {
   "cell_type": "code",
   "execution_count": null,
   "metadata": {},
   "outputs": [],
   "source": []
  }
 ],
 "metadata": {
  "kernelspec": {
   "display_name": "Python 3",
   "language": "python",
   "name": "python3"
  },
  "language_info": {
   "codemirror_mode": {
    "name": "ipython",
    "version": 3
   },
   "file_extension": ".py",
   "mimetype": "text/x-python",
   "name": "python",
   "nbconvert_exporter": "python",
   "pygments_lexer": "ipython3",
   "version": "3.8.5"
  }
 },
 "nbformat": 4,
 "nbformat_minor": 4
}
